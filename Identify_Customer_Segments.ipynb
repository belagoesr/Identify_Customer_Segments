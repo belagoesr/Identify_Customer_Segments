{
 "cells": [
  {
   "cell_type": "markdown",
   "metadata": {},
   "source": [
    "# Project: Identify Customer Segments\n",
    "\n",
    "In this project, you will apply unsupervised learning techniques to identify segments of the population that form the core customer base for a mail-order sales company in Germany. These segments can then be used to direct marketing campaigns towards audiences that will have the highest expected rate of returns. The data that you will use has been provided by our partners at Bertelsmann Arvato Analytics, and represents a real-life data science task."
   ]
  },
  {
   "cell_type": "code",
   "execution_count": 167,
   "metadata": {},
   "outputs": [],
   "source": [
    "# import libraries here; add more as necessary\n",
    "import numpy as np\n",
    "import pandas as pd\n",
    "import matplotlib.pyplot as plt\n",
    "import seaborn as sns\n",
    "from sklearn.preprocessing import Imputer, StandardScaler\n",
    "from sklearn.decomposition import PCA\n",
    "from sklearn.cluster import KMeans\n",
    "\n",
    "# magic word for producing visualizations in notebook\n",
    "%matplotlib inline"
   ]
  },
  {
   "cell_type": "markdown",
   "metadata": {},
   "source": [
    "### Step 0: Load the Data\n",
    "\n",
    "There are four files associated with this project (not including this one):\n",
    "\n",
    "- `Udacity_AZDIAS_Subset.csv`: Demographics data for the general population of Germany; 891211 persons (rows) x 85 features (columns).\n",
    "- `Udacity_CUSTOMERS_Subset.csv`: Demographics data for customers of a mail-order company; 191652 persons (rows) x 85 features (columns).\n",
    "- `Data_Dictionary.md`: Detailed information file about the features in the provided datasets.\n",
    "- `AZDIAS_Feature_Summary.csv`: Summary of feature attributes for demographics data; 85 features (rows) x 4 columns\n",
    "\n",
    "Each row of the demographics files represents a single person, but also includes information outside of individuals, including information about their household, building, and neighborhood. You will use this information to cluster the general population into groups with similar demographic properties. Then, you will see how the people in the customers dataset fit into those created clusters. The hope here is that certain clusters are over-represented in the customers data, as compared to the general population; those over-represented clusters will be assumed to be part of the core userbase. This information can then be used for further applications, such as targeting for a marketing campaign.\n",
    "\n",
    "To start off with, load in the demographics data for the general population into a pandas DataFrame, and do the same for the feature attributes summary. Note for all of the `.csv` data files in this project: they're semicolon (`;`) delimited, so you'll need an additional argument in your [`read_csv()`](https://pandas.pydata.org/pandas-docs/stable/generated/pandas.read_csv.html) call to read in the data properly. Also, considering the size of the main dataset, it may take some time for it to load completely.\n"
   ]
  },
  {
   "cell_type": "code",
   "execution_count": 168,
   "metadata": {},
   "outputs": [],
   "source": [
    "# Load the general demographics data.\n",
    "azdias = pd.read_csv('Udacity_AZDIAS_Subset.csv', sep=';')\n",
    "\n",
    "# Load the feature summary file.\n",
    "feat_info = pd.read_csv('AZDIAS_Feature_Summary.csv', sep=';')"
   ]
  },
  {
   "cell_type": "code",
   "execution_count": 169,
   "metadata": {},
   "outputs": [
    {
     "name": "stdout",
     "output_type": "stream",
     "text": [
      "Number of rows: 891221\n",
      "Number of features: 85\n"
     ]
    },
    {
     "data": {
      "text/html": [
       "<div>\n",
       "<style scoped>\n",
       "    .dataframe tbody tr th:only-of-type {\n",
       "        vertical-align: middle;\n",
       "    }\n",
       "\n",
       "    .dataframe tbody tr th {\n",
       "        vertical-align: top;\n",
       "    }\n",
       "\n",
       "    .dataframe thead th {\n",
       "        text-align: right;\n",
       "    }\n",
       "</style>\n",
       "<table border=\"1\" class=\"dataframe\">\n",
       "  <thead>\n",
       "    <tr style=\"text-align: right;\">\n",
       "      <th></th>\n",
       "      <th>AGER_TYP</th>\n",
       "      <th>ALTERSKATEGORIE_GROB</th>\n",
       "      <th>ANREDE_KZ</th>\n",
       "      <th>CJT_GESAMTTYP</th>\n",
       "      <th>FINANZ_MINIMALIST</th>\n",
       "      <th>FINANZ_SPARER</th>\n",
       "      <th>FINANZ_VORSORGER</th>\n",
       "      <th>FINANZ_ANLEGER</th>\n",
       "      <th>FINANZ_UNAUFFAELLIGER</th>\n",
       "      <th>FINANZ_HAUSBAUER</th>\n",
       "      <th>...</th>\n",
       "      <th>PLZ8_ANTG1</th>\n",
       "      <th>PLZ8_ANTG2</th>\n",
       "      <th>PLZ8_ANTG3</th>\n",
       "      <th>PLZ8_ANTG4</th>\n",
       "      <th>PLZ8_BAUMAX</th>\n",
       "      <th>PLZ8_HHZ</th>\n",
       "      <th>PLZ8_GBZ</th>\n",
       "      <th>ARBEIT</th>\n",
       "      <th>ORTSGR_KLS9</th>\n",
       "      <th>RELAT_AB</th>\n",
       "    </tr>\n",
       "  </thead>\n",
       "  <tbody>\n",
       "    <tr>\n",
       "      <th>0</th>\n",
       "      <td>-1</td>\n",
       "      <td>2</td>\n",
       "      <td>1</td>\n",
       "      <td>2.0</td>\n",
       "      <td>3</td>\n",
       "      <td>4</td>\n",
       "      <td>3</td>\n",
       "      <td>5</td>\n",
       "      <td>5</td>\n",
       "      <td>3</td>\n",
       "      <td>...</td>\n",
       "      <td>NaN</td>\n",
       "      <td>NaN</td>\n",
       "      <td>NaN</td>\n",
       "      <td>NaN</td>\n",
       "      <td>NaN</td>\n",
       "      <td>NaN</td>\n",
       "      <td>NaN</td>\n",
       "      <td>NaN</td>\n",
       "      <td>NaN</td>\n",
       "      <td>NaN</td>\n",
       "    </tr>\n",
       "    <tr>\n",
       "      <th>1</th>\n",
       "      <td>-1</td>\n",
       "      <td>1</td>\n",
       "      <td>2</td>\n",
       "      <td>5.0</td>\n",
       "      <td>1</td>\n",
       "      <td>5</td>\n",
       "      <td>2</td>\n",
       "      <td>5</td>\n",
       "      <td>4</td>\n",
       "      <td>5</td>\n",
       "      <td>...</td>\n",
       "      <td>2.0</td>\n",
       "      <td>3.0</td>\n",
       "      <td>2.0</td>\n",
       "      <td>1.0</td>\n",
       "      <td>1.0</td>\n",
       "      <td>5.0</td>\n",
       "      <td>4.0</td>\n",
       "      <td>3.0</td>\n",
       "      <td>5.0</td>\n",
       "      <td>4.0</td>\n",
       "    </tr>\n",
       "    <tr>\n",
       "      <th>2</th>\n",
       "      <td>-1</td>\n",
       "      <td>3</td>\n",
       "      <td>2</td>\n",
       "      <td>3.0</td>\n",
       "      <td>1</td>\n",
       "      <td>4</td>\n",
       "      <td>1</td>\n",
       "      <td>2</td>\n",
       "      <td>3</td>\n",
       "      <td>5</td>\n",
       "      <td>...</td>\n",
       "      <td>3.0</td>\n",
       "      <td>3.0</td>\n",
       "      <td>1.0</td>\n",
       "      <td>0.0</td>\n",
       "      <td>1.0</td>\n",
       "      <td>4.0</td>\n",
       "      <td>4.0</td>\n",
       "      <td>3.0</td>\n",
       "      <td>5.0</td>\n",
       "      <td>2.0</td>\n",
       "    </tr>\n",
       "    <tr>\n",
       "      <th>3</th>\n",
       "      <td>2</td>\n",
       "      <td>4</td>\n",
       "      <td>2</td>\n",
       "      <td>2.0</td>\n",
       "      <td>4</td>\n",
       "      <td>2</td>\n",
       "      <td>5</td>\n",
       "      <td>2</td>\n",
       "      <td>1</td>\n",
       "      <td>2</td>\n",
       "      <td>...</td>\n",
       "      <td>2.0</td>\n",
       "      <td>2.0</td>\n",
       "      <td>2.0</td>\n",
       "      <td>0.0</td>\n",
       "      <td>1.0</td>\n",
       "      <td>3.0</td>\n",
       "      <td>4.0</td>\n",
       "      <td>2.0</td>\n",
       "      <td>3.0</td>\n",
       "      <td>3.0</td>\n",
       "    </tr>\n",
       "    <tr>\n",
       "      <th>4</th>\n",
       "      <td>-1</td>\n",
       "      <td>3</td>\n",
       "      <td>1</td>\n",
       "      <td>5.0</td>\n",
       "      <td>4</td>\n",
       "      <td>3</td>\n",
       "      <td>4</td>\n",
       "      <td>1</td>\n",
       "      <td>3</td>\n",
       "      <td>2</td>\n",
       "      <td>...</td>\n",
       "      <td>2.0</td>\n",
       "      <td>4.0</td>\n",
       "      <td>2.0</td>\n",
       "      <td>1.0</td>\n",
       "      <td>2.0</td>\n",
       "      <td>3.0</td>\n",
       "      <td>3.0</td>\n",
       "      <td>4.0</td>\n",
       "      <td>6.0</td>\n",
       "      <td>5.0</td>\n",
       "    </tr>\n",
       "  </tbody>\n",
       "</table>\n",
       "<p>5 rows × 85 columns</p>\n",
       "</div>"
      ],
      "text/plain": [
       "   AGER_TYP  ALTERSKATEGORIE_GROB  ANREDE_KZ  CJT_GESAMTTYP  \\\n",
       "0        -1                     2          1            2.0   \n",
       "1        -1                     1          2            5.0   \n",
       "2        -1                     3          2            3.0   \n",
       "3         2                     4          2            2.0   \n",
       "4        -1                     3          1            5.0   \n",
       "\n",
       "   FINANZ_MINIMALIST  FINANZ_SPARER  FINANZ_VORSORGER  FINANZ_ANLEGER  \\\n",
       "0                  3              4                 3               5   \n",
       "1                  1              5                 2               5   \n",
       "2                  1              4                 1               2   \n",
       "3                  4              2                 5               2   \n",
       "4                  4              3                 4               1   \n",
       "\n",
       "   FINANZ_UNAUFFAELLIGER  FINANZ_HAUSBAUER    ...     PLZ8_ANTG1  PLZ8_ANTG2  \\\n",
       "0                      5                 3    ...            NaN         NaN   \n",
       "1                      4                 5    ...            2.0         3.0   \n",
       "2                      3                 5    ...            3.0         3.0   \n",
       "3                      1                 2    ...            2.0         2.0   \n",
       "4                      3                 2    ...            2.0         4.0   \n",
       "\n",
       "   PLZ8_ANTG3  PLZ8_ANTG4  PLZ8_BAUMAX  PLZ8_HHZ  PLZ8_GBZ  ARBEIT  \\\n",
       "0         NaN         NaN          NaN       NaN       NaN     NaN   \n",
       "1         2.0         1.0          1.0       5.0       4.0     3.0   \n",
       "2         1.0         0.0          1.0       4.0       4.0     3.0   \n",
       "3         2.0         0.0          1.0       3.0       4.0     2.0   \n",
       "4         2.0         1.0          2.0       3.0       3.0     4.0   \n",
       "\n",
       "   ORTSGR_KLS9  RELAT_AB  \n",
       "0          NaN       NaN  \n",
       "1          5.0       4.0  \n",
       "2          5.0       2.0  \n",
       "3          3.0       3.0  \n",
       "4          6.0       5.0  \n",
       "\n",
       "[5 rows x 85 columns]"
      ]
     },
     "execution_count": 169,
     "metadata": {},
     "output_type": "execute_result"
    }
   ],
   "source": [
    "print('Number of rows:', azdias.shape[0])\n",
    "print('Number of features:', azdias.shape[1])\n",
    "azdias.head(5)"
   ]
  },
  {
   "cell_type": "code",
   "execution_count": 170,
   "metadata": {},
   "outputs": [
    {
     "data": {
      "text/plain": [
       "float64    49\n",
       "int64      32\n",
       "object      4\n",
       "dtype: int64"
      ]
     },
     "execution_count": 170,
     "metadata": {},
     "output_type": "execute_result"
    }
   ],
   "source": [
    "azdias.dtypes.value_counts()"
   ]
  },
  {
   "cell_type": "markdown",
   "metadata": {},
   "source": [
    "## Step 1: Preprocessing\n",
    "\n",
    "### Step 1.1: Assess Missing Data\n",
    "\n",
    "The feature summary file contains a summary of properties for each demographics data column. You will use this file to help you make cleaning decisions during this stage of the project. First of all, you should assess the demographics data in terms of missing data. Pay attention to the following points as you perform your analysis, and take notes on what you observe. Make sure that you fill in the **Discussion** cell with your findings and decisions at the end of each step that has one!\n",
    "\n",
    "#### Step 1.1.1: Convert Missing Value Codes to NaNs\n",
    "The fourth column of the feature attributes summary (loaded in above as `feat_info`) documents the codes from the data dictionary that indicate missing or unknown data. While the file encodes this as a list (e.g. `[-1,0]`), this will get read in as a string object. You'll need to do a little bit of parsing to make use of it to identify and clean the data. Convert data that matches a 'missing' or 'unknown' value code into a numpy NaN value. You might want to see how much data takes on a 'missing' or 'unknown' code, and how much data is naturally missing, as a point of interest.\n"
   ]
  },
  {
   "cell_type": "code",
   "execution_count": 171,
   "metadata": {},
   "outputs": [
    {
     "data": {
      "text/html": [
       "<div>\n",
       "<style scoped>\n",
       "    .dataframe tbody tr th:only-of-type {\n",
       "        vertical-align: middle;\n",
       "    }\n",
       "\n",
       "    .dataframe tbody tr th {\n",
       "        vertical-align: top;\n",
       "    }\n",
       "\n",
       "    .dataframe thead th {\n",
       "        text-align: right;\n",
       "    }\n",
       "</style>\n",
       "<table border=\"1\" class=\"dataframe\">\n",
       "  <thead>\n",
       "    <tr style=\"text-align: right;\">\n",
       "      <th></th>\n",
       "      <th>attribute</th>\n",
       "      <th>information_level</th>\n",
       "      <th>type</th>\n",
       "      <th>missing_or_unknown</th>\n",
       "    </tr>\n",
       "  </thead>\n",
       "  <tbody>\n",
       "    <tr>\n",
       "      <th>0</th>\n",
       "      <td>AGER_TYP</td>\n",
       "      <td>person</td>\n",
       "      <td>categorical</td>\n",
       "      <td>[-1,0]</td>\n",
       "    </tr>\n",
       "    <tr>\n",
       "      <th>1</th>\n",
       "      <td>ALTERSKATEGORIE_GROB</td>\n",
       "      <td>person</td>\n",
       "      <td>ordinal</td>\n",
       "      <td>[-1,0,9]</td>\n",
       "    </tr>\n",
       "    <tr>\n",
       "      <th>2</th>\n",
       "      <td>ANREDE_KZ</td>\n",
       "      <td>person</td>\n",
       "      <td>categorical</td>\n",
       "      <td>[-1,0]</td>\n",
       "    </tr>\n",
       "    <tr>\n",
       "      <th>3</th>\n",
       "      <td>CJT_GESAMTTYP</td>\n",
       "      <td>person</td>\n",
       "      <td>categorical</td>\n",
       "      <td>[0]</td>\n",
       "    </tr>\n",
       "    <tr>\n",
       "      <th>4</th>\n",
       "      <td>FINANZ_MINIMALIST</td>\n",
       "      <td>person</td>\n",
       "      <td>ordinal</td>\n",
       "      <td>[-1]</td>\n",
       "    </tr>\n",
       "  </tbody>\n",
       "</table>\n",
       "</div>"
      ],
      "text/plain": [
       "              attribute information_level         type missing_or_unknown\n",
       "0              AGER_TYP            person  categorical             [-1,0]\n",
       "1  ALTERSKATEGORIE_GROB            person      ordinal           [-1,0,9]\n",
       "2             ANREDE_KZ            person  categorical             [-1,0]\n",
       "3         CJT_GESAMTTYP            person  categorical                [0]\n",
       "4     FINANZ_MINIMALIST            person      ordinal               [-1]"
      ]
     },
     "execution_count": 171,
     "metadata": {},
     "output_type": "execute_result"
    }
   ],
   "source": [
    "# Identify missing or unknown data values and convert them to NaNs.\n",
    "feat_info.head(5)"
   ]
  },
  {
   "cell_type": "code",
   "execution_count": 172,
   "metadata": {},
   "outputs": [],
   "source": [
    "# replace to np.nan according to feat_info \n",
    "\n",
    "azdias_mapped = azdias.copy()\n",
    "features = feat_info['attribute']\n",
    "\n",
    "for feature in features:\n",
    "    \n",
    "    # get missing_or_unknown for current feature and put in a list\n",
    "    missing_str = feat_info[feat_info['attribute'] == feature]['missing_or_unknown']\n",
    "    s = missing_str.values[0][1:][:-1].split(',')\n",
    "\n",
    "    if s[0]: # if there is missing_or_unknown values to replace, do it\n",
    "        if(azdias_mapped.dtypes[feature] == 'object'):\n",
    "            d = {n: np.nan for n in list(map(lambda x: str(x), s))}\n",
    "        else:\n",
    "            d = {n: np.nan for n in list(map(lambda x: int(x), s))}\n",
    "\n",
    "        azdias_mapped[feature] = azdias_mapped[feature].replace(d)\n"
   ]
  },
  {
   "cell_type": "code",
   "execution_count": 173,
   "metadata": {},
   "outputs": [
    {
     "data": {
      "text/html": [
       "<div>\n",
       "<style scoped>\n",
       "    .dataframe tbody tr th:only-of-type {\n",
       "        vertical-align: middle;\n",
       "    }\n",
       "\n",
       "    .dataframe tbody tr th {\n",
       "        vertical-align: top;\n",
       "    }\n",
       "\n",
       "    .dataframe thead th {\n",
       "        text-align: right;\n",
       "    }\n",
       "</style>\n",
       "<table border=\"1\" class=\"dataframe\">\n",
       "  <thead>\n",
       "    <tr style=\"text-align: right;\">\n",
       "      <th></th>\n",
       "      <th>AGER_TYP</th>\n",
       "      <th>ALTERSKATEGORIE_GROB</th>\n",
       "      <th>ANREDE_KZ</th>\n",
       "      <th>CJT_GESAMTTYP</th>\n",
       "      <th>FINANZ_MINIMALIST</th>\n",
       "      <th>FINANZ_SPARER</th>\n",
       "      <th>FINANZ_VORSORGER</th>\n",
       "      <th>FINANZ_ANLEGER</th>\n",
       "      <th>FINANZ_UNAUFFAELLIGER</th>\n",
       "      <th>FINANZ_HAUSBAUER</th>\n",
       "      <th>...</th>\n",
       "      <th>PLZ8_ANTG1</th>\n",
       "      <th>PLZ8_ANTG2</th>\n",
       "      <th>PLZ8_ANTG3</th>\n",
       "      <th>PLZ8_ANTG4</th>\n",
       "      <th>PLZ8_BAUMAX</th>\n",
       "      <th>PLZ8_HHZ</th>\n",
       "      <th>PLZ8_GBZ</th>\n",
       "      <th>ARBEIT</th>\n",
       "      <th>ORTSGR_KLS9</th>\n",
       "      <th>RELAT_AB</th>\n",
       "    </tr>\n",
       "  </thead>\n",
       "  <tbody>\n",
       "    <tr>\n",
       "      <th>0</th>\n",
       "      <td>NaN</td>\n",
       "      <td>2.0</td>\n",
       "      <td>1</td>\n",
       "      <td>2.0</td>\n",
       "      <td>3</td>\n",
       "      <td>4</td>\n",
       "      <td>3</td>\n",
       "      <td>5</td>\n",
       "      <td>5</td>\n",
       "      <td>3</td>\n",
       "      <td>...</td>\n",
       "      <td>NaN</td>\n",
       "      <td>NaN</td>\n",
       "      <td>NaN</td>\n",
       "      <td>NaN</td>\n",
       "      <td>NaN</td>\n",
       "      <td>NaN</td>\n",
       "      <td>NaN</td>\n",
       "      <td>NaN</td>\n",
       "      <td>NaN</td>\n",
       "      <td>NaN</td>\n",
       "    </tr>\n",
       "    <tr>\n",
       "      <th>1</th>\n",
       "      <td>NaN</td>\n",
       "      <td>1.0</td>\n",
       "      <td>2</td>\n",
       "      <td>5.0</td>\n",
       "      <td>1</td>\n",
       "      <td>5</td>\n",
       "      <td>2</td>\n",
       "      <td>5</td>\n",
       "      <td>4</td>\n",
       "      <td>5</td>\n",
       "      <td>...</td>\n",
       "      <td>2.0</td>\n",
       "      <td>3.0</td>\n",
       "      <td>2.0</td>\n",
       "      <td>1.0</td>\n",
       "      <td>1.0</td>\n",
       "      <td>5.0</td>\n",
       "      <td>4.0</td>\n",
       "      <td>3.0</td>\n",
       "      <td>5.0</td>\n",
       "      <td>4.0</td>\n",
       "    </tr>\n",
       "    <tr>\n",
       "      <th>2</th>\n",
       "      <td>NaN</td>\n",
       "      <td>3.0</td>\n",
       "      <td>2</td>\n",
       "      <td>3.0</td>\n",
       "      <td>1</td>\n",
       "      <td>4</td>\n",
       "      <td>1</td>\n",
       "      <td>2</td>\n",
       "      <td>3</td>\n",
       "      <td>5</td>\n",
       "      <td>...</td>\n",
       "      <td>3.0</td>\n",
       "      <td>3.0</td>\n",
       "      <td>1.0</td>\n",
       "      <td>0.0</td>\n",
       "      <td>1.0</td>\n",
       "      <td>4.0</td>\n",
       "      <td>4.0</td>\n",
       "      <td>3.0</td>\n",
       "      <td>5.0</td>\n",
       "      <td>2.0</td>\n",
       "    </tr>\n",
       "    <tr>\n",
       "      <th>3</th>\n",
       "      <td>2.0</td>\n",
       "      <td>4.0</td>\n",
       "      <td>2</td>\n",
       "      <td>2.0</td>\n",
       "      <td>4</td>\n",
       "      <td>2</td>\n",
       "      <td>5</td>\n",
       "      <td>2</td>\n",
       "      <td>1</td>\n",
       "      <td>2</td>\n",
       "      <td>...</td>\n",
       "      <td>2.0</td>\n",
       "      <td>2.0</td>\n",
       "      <td>2.0</td>\n",
       "      <td>0.0</td>\n",
       "      <td>1.0</td>\n",
       "      <td>3.0</td>\n",
       "      <td>4.0</td>\n",
       "      <td>2.0</td>\n",
       "      <td>3.0</td>\n",
       "      <td>3.0</td>\n",
       "    </tr>\n",
       "    <tr>\n",
       "      <th>4</th>\n",
       "      <td>NaN</td>\n",
       "      <td>3.0</td>\n",
       "      <td>1</td>\n",
       "      <td>5.0</td>\n",
       "      <td>4</td>\n",
       "      <td>3</td>\n",
       "      <td>4</td>\n",
       "      <td>1</td>\n",
       "      <td>3</td>\n",
       "      <td>2</td>\n",
       "      <td>...</td>\n",
       "      <td>2.0</td>\n",
       "      <td>4.0</td>\n",
       "      <td>2.0</td>\n",
       "      <td>1.0</td>\n",
       "      <td>2.0</td>\n",
       "      <td>3.0</td>\n",
       "      <td>3.0</td>\n",
       "      <td>4.0</td>\n",
       "      <td>6.0</td>\n",
       "      <td>5.0</td>\n",
       "    </tr>\n",
       "  </tbody>\n",
       "</table>\n",
       "<p>5 rows × 85 columns</p>\n",
       "</div>"
      ],
      "text/plain": [
       "   AGER_TYP  ALTERSKATEGORIE_GROB  ANREDE_KZ  CJT_GESAMTTYP  \\\n",
       "0       NaN                   2.0          1            2.0   \n",
       "1       NaN                   1.0          2            5.0   \n",
       "2       NaN                   3.0          2            3.0   \n",
       "3       2.0                   4.0          2            2.0   \n",
       "4       NaN                   3.0          1            5.0   \n",
       "\n",
       "   FINANZ_MINIMALIST  FINANZ_SPARER  FINANZ_VORSORGER  FINANZ_ANLEGER  \\\n",
       "0                  3              4                 3               5   \n",
       "1                  1              5                 2               5   \n",
       "2                  1              4                 1               2   \n",
       "3                  4              2                 5               2   \n",
       "4                  4              3                 4               1   \n",
       "\n",
       "   FINANZ_UNAUFFAELLIGER  FINANZ_HAUSBAUER    ...     PLZ8_ANTG1  PLZ8_ANTG2  \\\n",
       "0                      5                 3    ...            NaN         NaN   \n",
       "1                      4                 5    ...            2.0         3.0   \n",
       "2                      3                 5    ...            3.0         3.0   \n",
       "3                      1                 2    ...            2.0         2.0   \n",
       "4                      3                 2    ...            2.0         4.0   \n",
       "\n",
       "   PLZ8_ANTG3  PLZ8_ANTG4  PLZ8_BAUMAX  PLZ8_HHZ  PLZ8_GBZ  ARBEIT  \\\n",
       "0         NaN         NaN          NaN       NaN       NaN     NaN   \n",
       "1         2.0         1.0          1.0       5.0       4.0     3.0   \n",
       "2         1.0         0.0          1.0       4.0       4.0     3.0   \n",
       "3         2.0         0.0          1.0       3.0       4.0     2.0   \n",
       "4         2.0         1.0          2.0       3.0       3.0     4.0   \n",
       "\n",
       "   ORTSGR_KLS9  RELAT_AB  \n",
       "0          NaN       NaN  \n",
       "1          5.0       4.0  \n",
       "2          5.0       2.0  \n",
       "3          3.0       3.0  \n",
       "4          6.0       5.0  \n",
       "\n",
       "[5 rows x 85 columns]"
      ]
     },
     "execution_count": 173,
     "metadata": {},
     "output_type": "execute_result"
    }
   ],
   "source": [
    "azdias_mapped.head()"
   ]
  },
  {
   "cell_type": "markdown",
   "metadata": {},
   "source": [
    "#### Step 1.1.2: Assess Missing Data in Each Column\n",
    "\n",
    "How much missing data is present in each column? There are a few columns that are outliers in terms of the proportion of values that are missing. You will want to use matplotlib's [`hist()`](https://matplotlib.org/api/_as_gen/matplotlib.pyplot.hist.html) function to visualize the distribution of missing value counts to find these columns. Identify and document these columns. While some of these columns might have justifications for keeping or re-encoding the data, for this project you should just remove them from the dataframe. (Feel free to make remarks about these outlier columns in the discussion, however!)\n",
    "\n",
    "For the remaining features, are there any patterns in which columns have, or share, missing data?"
   ]
  },
  {
   "cell_type": "code",
   "execution_count": 174,
   "metadata": {},
   "outputs": [
    {
     "data": {
      "text/plain": [
       "AGER_TYP                 685843\n",
       "ALTERSKATEGORIE_GROB       2881\n",
       "ANREDE_KZ                     0\n",
       "CJT_GESAMTTYP              4854\n",
       "FINANZ_MINIMALIST             0\n",
       "FINANZ_SPARER                 0\n",
       "FINANZ_VORSORGER              0\n",
       "FINANZ_ANLEGER                0\n",
       "FINANZ_UNAUFFAELLIGER         0\n",
       "FINANZ_HAUSBAUER              0\n",
       "dtype: int64"
      ]
     },
     "execution_count": 174,
     "metadata": {},
     "output_type": "execute_result"
    }
   ],
   "source": [
    "# Perform an assessment of how much missing data there is in each column of the\n",
    "# dataset.\n",
    "na_counts = azdias_mapped.isnull().sum()\n",
    "na_counts[:10]"
   ]
  },
  {
   "cell_type": "code",
   "execution_count": 175,
   "metadata": {
    "scrolled": true
   },
   "outputs": [
    {
     "data": {
      "image/png": "[encoded data removed]",
      "text/plain": [
       "<matplotlib.figure.Figure at 0x7fedeb2eeef0>"
      ]
     },
     "metadata": {},
     "output_type": "display_data"
    }
   ],
   "source": [
    "# Investigate patterns in the amount of missing data in each column.\n",
    "\n",
    "# plot columns that have missing values\n",
    "base_color = sns.color_palette()[0]\n",
    "na_counts_subset = na_counts[na_counts != 0]\n",
    "\n",
    "sns.set(style=\"whitegrid\")\n",
    "f, ax = plt.subplots(figsize=(20, 15))\n",
    "na_counts_subset = na_counts_subset.sort_values(ascending=False)\n",
    "x_values = na_counts_subset / azdias.shape[0]\n",
    "g = sns.barplot(x=x_values, y=na_counts_subset.index, color=base_color)\n",
    "\n",
    "plt.xticks(np.arange(0, 1, 0.1))\n",
    "plt.title('Proportion of missing values per feature',fontdict={'fontsize': 20});\n",
    "ax.set(xlim=(0, 1), xlabel=\"Proportion of missing values\");\n"
   ]
  },
  {
   "cell_type": "code",
   "execution_count": 176,
   "metadata": {},
   "outputs": [
    {
     "data": {
      "text/html": [
       "<div>\n",
       "<style scoped>\n",
       "    .dataframe tbody tr th:only-of-type {\n",
       "        vertical-align: middle;\n",
       "    }\n",
       "\n",
       "    .dataframe tbody tr th {\n",
       "        vertical-align: top;\n",
       "    }\n",
       "\n",
       "    .dataframe thead th {\n",
       "        text-align: right;\n",
       "    }\n",
       "</style>\n",
       "<table border=\"1\" class=\"dataframe\">\n",
       "  <thead>\n",
       "    <tr style=\"text-align: right;\">\n",
       "      <th></th>\n",
       "      <th>attribute</th>\n",
       "      <th>information_level</th>\n",
       "      <th>type</th>\n",
       "      <th>missing_or_unknown</th>\n",
       "    </tr>\n",
       "  </thead>\n",
       "  <tbody>\n",
       "    <tr>\n",
       "      <th>0</th>\n",
       "      <td>AGER_TYP</td>\n",
       "      <td>person</td>\n",
       "      <td>categorical</td>\n",
       "      <td>[-1,0]</td>\n",
       "    </tr>\n",
       "    <tr>\n",
       "      <th>11</th>\n",
       "      <td>GEBURTSJAHR</td>\n",
       "      <td>person</td>\n",
       "      <td>numeric</td>\n",
       "      <td>[0]</td>\n",
       "    </tr>\n",
       "    <tr>\n",
       "      <th>40</th>\n",
       "      <td>TITEL_KZ</td>\n",
       "      <td>person</td>\n",
       "      <td>categorical</td>\n",
       "      <td>[-1,0]</td>\n",
       "    </tr>\n",
       "    <tr>\n",
       "      <th>43</th>\n",
       "      <td>ALTER_HH</td>\n",
       "      <td>household</td>\n",
       "      <td>interval</td>\n",
       "      <td>[0]</td>\n",
       "    </tr>\n",
       "    <tr>\n",
       "      <th>47</th>\n",
       "      <td>KK_KUNDENTYP</td>\n",
       "      <td>household</td>\n",
       "      <td>categorical</td>\n",
       "      <td>[-1]</td>\n",
       "    </tr>\n",
       "    <tr>\n",
       "      <th>64</th>\n",
       "      <td>KBA05_BAUMAX</td>\n",
       "      <td>microcell_rr3</td>\n",
       "      <td>mixed</td>\n",
       "      <td>[-1,0]</td>\n",
       "    </tr>\n",
       "  </tbody>\n",
       "</table>\n",
       "</div>"
      ],
      "text/plain": [
       "       attribute information_level         type missing_or_unknown\n",
       "0       AGER_TYP            person  categorical             [-1,0]\n",
       "11   GEBURTSJAHR            person      numeric                [0]\n",
       "40      TITEL_KZ            person  categorical             [-1,0]\n",
       "43      ALTER_HH         household     interval                [0]\n",
       "47  KK_KUNDENTYP         household  categorical               [-1]\n",
       "64  KBA05_BAUMAX     microcell_rr3        mixed             [-1,0]"
      ]
     },
     "execution_count": 176,
     "metadata": {},
     "output_type": "execute_result"
    }
   ],
   "source": [
    "# Levels of information of missing data in columns with more then 20% of values missing\n",
    "\n",
    "outliers_features = ['TITEL_KZ','AGER_TYP','KK_KUNDENTYP', 'KBA05_BAUMAX', \n",
    "                     'GEBURTSJAHR','ALTER_HH']\n",
    "feat_info[feat_info['attribute'].isin(outliers_features)]\n"
   ]
  },
  {
   "cell_type": "code",
   "execution_count": 177,
   "metadata": {},
   "outputs": [
    {
     "data": {
      "text/plain": [
       "(891221, 79)"
      ]
     },
     "execution_count": 177,
     "metadata": {},
     "output_type": "execute_result"
    }
   ],
   "source": [
    "# Remove the outlier columns from the dataset. (You'll perform other data\n",
    "# engineering tasks such as re-encoding and imputation later.)\n",
    "\n",
    "azdias_mapped_drop = azdias_mapped.drop(labels=outliers_features, axis=1)\n",
    "azdias_mapped_drop.shape"
   ]
  },
  {
   "cell_type": "markdown",
   "metadata": {},
   "source": [
    "#### Discussion 1.1.2: Assess Missing Data in Each Column"
   ]
  },
  {
   "cell_type": "markdown",
   "metadata": {},
   "source": [
    "-  From the plot 'Proportion of missing values per feature' it is possible to see that 6 features have more than 20% of missing values. These features are:\n",
    "<br>\n",
    "\n",
    "    -  **TITEL_KZ**: Academic title flag (e.g Prof., Dr.)\n",
    "    <br>\n",
    "    -  **AGER_TYP**: Best-ager typology (e.g passive elderly, cultural elderly)\n",
    "      <br>\n",
    "    -  **KK_KUNDENTYP**: Consumer pattern over past 12 months (e.g regular customer, active customer)\n",
    "    <br>\n",
    "    -  **KBA05_BAUMAX**: Most common building type within the microcell(e.g mainly 1-2 family homes in the microcell)\n",
    "    <br>\n",
    "    -  **GEBURTSJAHR**: Year of Birth\n",
    "    <br>\n",
    "    -  **ALTER_HH**: Birthdate of head of household\n",
    "    <br>\n",
    "<br>\n",
    "-  The table below shows the amount of missing information per feature:\n",
    " \n",
    "| Feature | # of missing values | Percentage| Level of information|\n",
    "| --- | --- | --- | --- |\n",
    "| TITEL_KZ | 889061 | 99.75% |person|\n",
    "| AGER_TYP | 685843 | 76.95% |person|\n",
    "| KK_KUNDENTYP | 584612 | 65.59% |household|\n",
    "| KBA05_BAUMAX | 476524 | 53.46% |microcell_rr3|\n",
    "| GEBURTSJAHR | 392318 | 44.02% |person|\n",
    "| ALTER_HH | 310267 | 34.81% |household|\n",
    "\n",
    "-  Regarding the level of information of the missing features, 3 of the features were \n",
    "'person' info, 2 of them were 'household' info and 1 was 'microcell_rr3'.\n",
    "- These 6 outliers features were dropped.\n",
    "\n"
   ]
  },
  {
   "cell_type": "markdown",
   "metadata": {},
   "source": [
    "#### Step 1.1.3: Assess Missing Data in Each Row\n",
    "\n",
    "Now, you'll perform a similar assessment for the rows of the dataset. How much data is missing in each row? As with the columns, you should see some groups of points that have a very different numbers of missing values. Divide the data into two subsets: one for data points that are above some threshold for missing values, and a second subset for points below that threshold.\n",
    "\n",
    "In order to know what to do with the outlier rows, we should see if the distribution of data values on columns that are not missing data (or are missing very little data) are similar or different between the two groups. Select at least five of these columns and compare the distribution of values.\n",
    "- You can use seaborn's [`countplot()`](https://seaborn.pydata.org/generated/seaborn.countplot.html) function to create a bar chart of code frequencies and matplotlib's [`subplot()`](https://matplotlib.org/api/_as_gen/matplotlib.pyplot.subplot.html) function to put bar charts for the two subplots side by side.\n",
    "- To reduce repeated code, you might want to write a function that can perform this comparison, taking as one of its arguments a column to be compared.\n",
    "\n",
    "Depending on what you observe in your comparison, this will have implications on how you approach your conclusions later in the analysis. If the distributions of non-missing features look similar between the data with many missing values and the data with few or no missing values, then we could argue that simply dropping those points from the analysis won't present a major issue. On the other hand, if the data with many missing values looks very different from the data with few or no missing values, then we should make a note on those data as special. We'll revisit these data later on. **Either way, you should continue your analysis for now using just the subset of the data with few or no missing values.**"
   ]
  },
  {
   "cell_type": "code",
   "execution_count": 178,
   "metadata": {},
   "outputs": [
    {
     "data": {
      "text/plain": [
       "0    43\n",
       "1     0\n",
       "2     0\n",
       "3     7\n",
       "4     0\n",
       "5     0\n",
       "6     0\n",
       "7     0\n",
       "8     0\n",
       "9     0\n",
       "dtype: int64"
      ]
     },
     "execution_count": 178,
     "metadata": {},
     "output_type": "execute_result"
    }
   ],
   "source": [
    "# Count how much data is missing in each row of the dataset\n",
    "na_rows = azdias_mapped_drop.isnull().sum(axis=1)\n",
    "na_rows[:10]"
   ]
  },
  {
   "cell_type": "code",
   "execution_count": 179,
   "metadata": {},
   "outputs": [
    {
     "data": {
      "image/png": "[encoded data removed]",
      "text/plain": [
       "<matplotlib.figure.Figure at 0x7fedda949c18>"
      ]
     },
     "metadata": {},
     "output_type": "display_data"
    }
   ],
   "source": [
    "bins = np.arange(0, 47+5, 5);\n",
    "plt.hist(na_rows, bins=bins);\n",
    "plt.xticks(np.arange(0,47+5,5));\n",
    "plt.xlabel('Number of missing values in a row')\n",
    "plt.ylabel('count');\n",
    "plt.title('Missing values per row');"
   ]
  },
  {
   "cell_type": "code",
   "execution_count": 180,
   "metadata": {},
   "outputs": [
    {
     "name": "stdout",
     "output_type": "stream",
     "text": [
      "Below percentage of dataset 89.48%\n",
      "Above percentage of dataset 10.52%\n"
     ]
    }
   ],
   "source": [
    "# divide the data into two subsets based on the number of missing values in each row.\n",
    "\n",
    "threshold = 20\n",
    "subset_above = azdias_mapped_drop[na_rows > threshold]\n",
    "subset_below = azdias_mapped_drop[na_rows <= threshold]\n",
    "print(\"Below percentage of dataset {:0.2%}\".format(subset_below.shape[0]/azdias.shape[0]))\n",
    "print(\"Above percentage of dataset {:0.2%}\".format(subset_above.shape[0]/azdias.shape[0]))\n"
   ]
  },
  {
   "cell_type": "code",
   "execution_count": 181,
   "metadata": {},
   "outputs": [],
   "source": [
    "# Compare the distribution of values for at least five columns where there are\n",
    "# no or few missing values, between the two subsets.\n",
    "\n",
    "# find columns which have 0 values missing\n",
    "features = subset_below.columns[subset_below.isnull().sum()==0][:6]"
   ]
  },
  {
   "cell_type": "code",
   "execution_count": 182,
   "metadata": {},
   "outputs": [
    {
     "data": {
      "image/png": "[encoded data removed]",
      "text/plain": [
       "<matplotlib.figure.Figure at 0x7feddc4e6b38>"
      ]
     },
     "metadata": {},
     "output_type": "display_data"
    }
   ],
   "source": [
    "plt.figure(figsize=(15,20))\n",
    "for i, col in enumerate(features):\n",
    "    plt.subplot(4, 2, i+1)\n",
    "    sns.distplot(subset_below[col], label='below')\n",
    "    sns.distplot(subset_above[col], label='above')\n",
    "    plt.title('Distribution for column: {}'.format(col))\n",
    "    plt.legend();"
   ]
  },
  {
   "cell_type": "markdown",
   "metadata": {},
   "source": [
    "#### Discussion 1.1.3: Assess Missing Data in Each Row\n"
   ]
  },
  {
   "cell_type": "markdown",
   "metadata": {},
   "source": [
    "Observing the plot of 'Frequency of missing values', we can see that most of rows have less than 20 missing values. After dividing the dataset using threshold = 20 (subset_below and subset_above), the proportion of data in each dataset is: \n",
    "\n",
    "     - Below percentage of dataset 89.48%\n",
    "    - Above percentage of dataset 10.52%\n",
    "    \n",
    "Then the distribution for the first 6 features were plotted. From these plots, it is possible to see that the distributions have a similar shape. Therefore, dropping the subset above the threshold from the analysis won't present a major issue. \n"
   ]
  },
  {
   "cell_type": "markdown",
   "metadata": {},
   "source": [
    "### Step 1.2: Select and Re-Encode Features\n",
    "\n",
    "Checking for missing data isn't the only way in which you can prepare a dataset for analysis. Since the unsupervised learning techniques to be used will only work on data that is encoded numerically, you need to make a few encoding changes or additional assumptions to be able to make progress. In addition, while almost all of the values in the dataset are encoded using numbers, not all of them represent numeric values. Check the third column of the feature summary (`feat_info`) for a summary of types of measurement.\n",
    "- For numeric and interval data, these features can be kept without changes.\n",
    "- Most of the variables in the dataset are ordinal in nature. While ordinal values may technically be non-linear in spacing, make the simplifying assumption that the ordinal variables can be treated as being interval in nature (that is, kept without any changes).\n",
    "- Special handling may be necessary for the remaining two variable types: categorical, and 'mixed'.\n",
    "\n",
    "In the first two parts of this sub-step, you will perform an investigation of the categorical and mixed-type features and make a decision on each of them, whether you will keep, drop, or re-encode each. Then, in the last part, you will create a new data frame with only the selected and engineered columns.\n",
    "\n",
    "Data wrangling is often the trickiest part of the data analysis process, and there's a lot of it to be done here. But stick with it: once you're done with this step, you'll be ready to get to the machine learning parts of the project!"
   ]
  },
  {
   "cell_type": "code",
   "execution_count": 183,
   "metadata": {},
   "outputs": [
    {
     "data": {
      "image/png": "[encoded data removed]",
      "text/plain": [
       "<matplotlib.figure.Figure at 0x7feddc683080>"
      ]
     },
     "metadata": {},
     "output_type": "display_data"
    }
   ],
   "source": [
    "# Count how many features are there of each data type\n",
    "feat_info['type'].value_counts()\n",
    "g = sns.countplot(x=feat_info['type']);\n",
    "g.set_title('Features type');"
   ]
  },
  {
   "cell_type": "code",
   "execution_count": 184,
   "metadata": {},
   "outputs": [],
   "source": [
    "# Get categorical and mixed features names\n",
    "categorical_feat = feat_info[feat_info['type']=='categorical']['attribute']\n",
    "mixed_feat = feat_info[feat_info['type']=='mixed']['attribute']"
   ]
  },
  {
   "cell_type": "markdown",
   "metadata": {},
   "source": [
    "#### Step 1.2.1: Re-Encode Categorical Features\n",
    "\n",
    "For categorical data, you would ordinarily need to encode the levels as dummy variables. Depending on the number of categories, perform one of the following:\n",
    "- For binary (two-level) categoricals that take numeric values, you can keep them without needing to do anything.\n",
    "- There is one binary variable that takes on non-numeric values. For this one, you need to re-encode the values as numbers or create a dummy variable.\n",
    "- For multi-level categoricals (three or more values), you can choose to encode the values using multiple dummy variables (e.g. via [OneHotEncoder](http://scikit-learn.org/stable/modules/generated/sklearn.preprocessing.OneHotEncoder.html)), or (to keep things straightforward) just drop them from the analysis. As always, document your choices in the Discussion section."
   ]
  },
  {
   "cell_type": "code",
   "execution_count": 185,
   "metadata": {},
   "outputs": [
    {
     "name": "stdout",
     "output_type": "stream",
     "text": [
      "ANREDE_KZ | int64 | 2\n",
      "CJT_GESAMTTYP | float64 | 6\n",
      "FINANZTYP | int64 | 6\n",
      "GFK_URLAUBERTYP | float64 | 12\n",
      "GREEN_AVANTGARDE | int64 | 2\n",
      "LP_FAMILIE_FEIN | float64 | 11\n",
      "LP_FAMILIE_GROB | float64 | 5\n",
      "LP_STATUS_FEIN | float64 | 10\n",
      "LP_STATUS_GROB | float64 | 5\n",
      "NATIONALITAET_KZ | float64 | 3\n",
      "SHOPPER_TYP | float64 | 4\n",
      "SOHO_KZ | float64 | 2\n",
      "VERS_TYP | float64 | 2\n",
      "ZABEOTYP | int64 | 6\n",
      "GEBAEUDETYP | float64 | 7\n",
      "OST_WEST_KZ | object | 2\n",
      "CAMEO_DEUG_2015 | object | 9\n",
      "CAMEO_DEU_2015 | object | 44\n"
     ]
    }
   ],
   "source": [
    "# Assess categorical variables: which are binary, which are multi-level\n",
    "\n",
    "# remove features already dropped as outliers\n",
    "categorical_feat = [feat for feat in categorical_feat if feat not in outliers_features]\n",
    "\n",
    "# print categorical features levels\n",
    "for feature in categorical_feat:\n",
    "    levels = len(subset_below[feature].value_counts())\n",
    "    print(feature, '|', subset_below[feature].dtypes, '|', levels)\n",
    "         "
   ]
  },
  {
   "cell_type": "code",
   "execution_count": 186,
   "metadata": {},
   "outputs": [
    {
     "name": "stderr",
     "output_type": "stream",
     "text": [
      "/opt/conda/lib/python3.6/site-packages/ipykernel_launcher.py:5: SettingWithCopyWarning: \n",
      "A value is trying to be set on a copy of a slice from a DataFrame.\n",
      "Try using .loc[row_indexer,col_indexer] = value instead\n",
      "\n",
      "See the caveats in the documentation: http://pandas.pydata.org/pandas-docs/stable/indexing.html#indexing-view-versus-copy\n",
      "  \"\"\"\n"
     ]
    }
   ],
   "source": [
    "# Re-encode categorical variable(s) to be kept in the analysis.\n",
    "\n",
    "# Reencode binary variable which have non-numeric value\n",
    "d = {'W': 0, 'O': 1}\n",
    "subset_below['OST_WEST_KZ'] = subset_below['OST_WEST_KZ'].map(d)"
   ]
  },
  {
   "cell_type": "code",
   "execution_count": 187,
   "metadata": {},
   "outputs": [
    {
     "data": {
      "text/plain": [
       "0    628987\n",
       "1    168439\n",
       "Name: OST_WEST_KZ, dtype: int64"
      ]
     },
     "execution_count": 187,
     "metadata": {},
     "output_type": "execute_result"
    }
   ],
   "source": [
    "subset_below['OST_WEST_KZ'].value_counts()"
   ]
  },
  {
   "cell_type": "code",
   "execution_count": 188,
   "metadata": {},
   "outputs": [],
   "source": [
    "# dropping features with more than 4 levels\n",
    "drop_features = ['CAMEO_DEU_2015', 'FINANZTYP', 'GFK_URLAUBERTYP', 'LP_FAMILIE_GROB',\n",
    "                 'LP_FAMILIE_FEIN', 'LP_STATUS_GROB','LP_STATUS_FEIN', 'ZABEOTYP',\n",
    "                 'CAMEO_DEUG_2015', 'GEBAEUDETYP', 'CJT_GESAMTTYP']\n",
    "\n",
    "subset_below = subset_below.drop(labels=drop_features, axis=1)"
   ]
  },
  {
   "cell_type": "code",
   "execution_count": 189,
   "metadata": {},
   "outputs": [
    {
     "data": {
      "text/plain": [
       "(797426, 73)"
      ]
     },
     "execution_count": 189,
     "metadata": {},
     "output_type": "execute_result"
    }
   ],
   "source": [
    "# variables with 2 labels: don't do nothing\n",
    "# encoding features with 3 or 4 levels\n",
    "encoding_feat = ['NATIONALITAET_KZ','SHOPPER_TYP']\n",
    "subset_below = pd.get_dummies(subset_below, columns=encoding_feat)\n",
    "subset_below.shape"
   ]
  },
  {
   "cell_type": "markdown",
   "metadata": {},
   "source": [
    "#### Discussion 1.2.1: Re-Encode Categorical Features"
   ]
  },
  {
   "cell_type": "markdown",
   "metadata": {},
   "source": [
    "- The number of levels in each categorical feature were calculated. \n",
    "- The feature 'OST_WEST_KZ' with levels 'W' and 'O' was mapped to values 0 or 1.\n",
    "- The features with more than 4 levels were dropped, the ones with 3 or 4 level were encoded using pd.get_dummies() and the features with 2 levels remains the same.\n",
    "- The number of columns after dealing with the categorical features is 73.\n"
   ]
  },
  {
   "cell_type": "markdown",
   "metadata": {},
   "source": [
    "#### Step 1.2.2: Engineer Mixed-Type Features\n",
    "\n",
    "There are a handful of features that are marked as \"mixed\" in the feature summary that require special treatment in order to be included in the analysis. There are two in particular that deserve attention; the handling of the rest are up to your own choices:\n",
    "- \"PRAEGENDE_JUGENDJAHRE\" combines information on three dimensions: generation by decade, movement (mainstream vs. avantgarde), and nation (east vs. west). While there aren't enough levels to disentangle east from west, you should create two new variables to capture the other two dimensions: an interval-type variable for decade, and a binary variable for movement.\n",
    "- \"CAMEO_INTL_2015\" combines information on two axes: wealth and life stage. Break up the two-digit codes by their 'tens'-place and 'ones'-place digits into two new ordinal variables (which, for the purposes of this project, is equivalent to just treating them as their raw numeric values).\n",
    "- If you decide to keep or engineer new features around the other mixed-type features, make sure you note your steps in the Discussion section.\n",
    "\n",
    "Be sure to check `Data_Dictionary.md` for the details needed to finish these tasks."
   ]
  },
  {
   "cell_type": "code",
   "execution_count": 190,
   "metadata": {
    "scrolled": true
   },
   "outputs": [],
   "source": [
    "# Investigate \"PRAEGENDE_JUGENDJAHRE\" and engineer two new variables.\n",
    "\n",
    "def map_year(val):\n",
    "    if val==1 or val==2: return 1 # 40s\n",
    "    elif val==3 or val==4: return 2 # 50s\n",
    "    elif val==5 or val==6 or val==7: return 3 # 60s\n",
    "    elif val==8 or val==9: return 4 # 70s\n",
    "    elif val>=10 and val<=13: return 5 # 80s\n",
    "    elif val==14 or val==15: return 6 # 90s\n",
    "\n",
    "def map_movement(val):\n",
    "    \n",
    "    avantgarde = [2,4,6,7,9,11,13,15]\n",
    "    mainstream = [1,3,5,8,10,12,14]\n",
    "    \n",
    "    if val in avantgarde: return 0\n",
    "    elif val in mainstream: return 1\n",
    "    \n",
    "    \n",
    "subset_below['PRAEGENDE_JUGENDJAHRE_YEAR'] = subset_below['PRAEGENDE_JUGENDJAHRE'].map(map_year)\n",
    "subset_below['PRAEGENDE_JUGENDJAHRE_MOVEMENT'] = subset_below['PRAEGENDE_JUGENDJAHRE'].map(map_movement)\n"
   ]
  },
  {
   "cell_type": "code",
   "execution_count": 191,
   "metadata": {},
   "outputs": [],
   "source": [
    "# Investigate \"CAMEO_INTL_2015\" and engineer two new variables.\n",
    "def map_wealth(val):\n",
    "    \n",
    "    if val is not np.nan:\n",
    "        return int(val)//10\n",
    "    else:\n",
    "        return val\n",
    "\n",
    "def map_life_stage(val):\n",
    "    \n",
    "    if val is not np.nan:\n",
    "        return int(val)%10\n",
    "    else:\n",
    "        return val\n",
    "\n",
    "subset_below['CAMEO_INTL_2015_WEALTH'] = subset_below['CAMEO_INTL_2015'].map(map_wealth)\n",
    "subset_below['CAMEO_INTL_2015_LIFE_STAGE'] = subset_below['CAMEO_INTL_2015'].map(map_life_stage)\n"
   ]
  },
  {
   "cell_type": "code",
   "execution_count": 192,
   "metadata": {},
   "outputs": [],
   "source": [
    "# engineer new feature based on WOHNLAGE - Neighborhood quality (or rural flag)\n",
    "# 1 is rural, 0 is city\n",
    "def map_wohnlage_rural(val):\n",
    "    \n",
    "    not_rural = [0,1,2,3,4,5]\n",
    "    rural = [7,8]\n",
    "    \n",
    "    if val in not_rural: return 0\n",
    "    elif val in rural: return 1\n",
    "    \n",
    "subset_below['WOHNLAGE_RURAL'] = subset_below['WOHNLAGE'].map(map_wohnlage_rural);"
   ]
  },
  {
   "cell_type": "code",
   "execution_count": 193,
   "metadata": {},
   "outputs": [],
   "source": [
    "# PLZ8_BAUMAX - Most common building type within the PLZ8 region\n",
    "# 0 is family, 1 is business\n",
    "    \n",
    "def map_plz8_baumax(val):\n",
    "    \n",
    "    business = [5]\n",
    "    \n",
    "    if val in business: return 1\n",
    "    else: return 0\n",
    "\n",
    "subset_below['PLZ8_BAUMAX_BUSINESS'] = subset_below['PLZ8_BAUMAX'].map(map_plz8_baumax)"
   ]
  },
  {
   "cell_type": "code",
   "execution_count": 194,
   "metadata": {},
   "outputs": [
    {
     "data": {
      "text/plain": [
       "(797426, 73)"
      ]
     },
     "execution_count": 194,
     "metadata": {},
     "output_type": "execute_result"
    }
   ],
   "source": [
    "# remove mixed features from dataframe\n",
    "mixed_feat = ['LP_LEBENSPHASE_FEIN', 'LP_LEBENSPHASE_GROB','PRAEGENDE_JUGENDJAHRE',\n",
    "              'WOHNLAGE', 'CAMEO_INTL_2015', 'PLZ8_BAUMAX']\n",
    "\n",
    "subset_below = subset_below.drop(labels=mixed_feat, axis=1)\n",
    "subset_below.shape"
   ]
  },
  {
   "cell_type": "markdown",
   "metadata": {},
   "source": [
    "#### Discussion 1.2.2: Engineer Mixed-Type Features\n"
   ]
  },
  {
   "cell_type": "markdown",
   "metadata": {},
   "source": [
    "- 6 new features were created from original mixed features: \n",
    "    - 'PRAEGENDE_JUGENDJAHRE_MOVEMENT'\n",
    "    - 'PRAEGENDE_JUGENDJAHRE_YEAR \n",
    "    - 'CAMEO_INTL_2015_WEALTH'\n",
    "    - 'CAMEO_INTL_2015_LIFE_STAGE'\n",
    "    - 'WOHNLAGE_RURAL' \n",
    "    - 'PLZ8_BAUMAX_BUSINESS'\n",
    "\n",
    "- The original mixed features were dropped.\n"
   ]
  },
  {
   "cell_type": "markdown",
   "metadata": {},
   "source": [
    "#### Step 1.2.3: Complete Feature Selection\n",
    "\n",
    "In order to finish this step up, you need to make sure that your data frame now only has the columns that you want to keep. To summarize, the dataframe should consist of the following:\n",
    "- All numeric, interval, and ordinal type columns from the original dataset.\n",
    "- Binary categorical features (all numerically-encoded).\n",
    "- Engineered features from other multi-level categorical features and mixed features.\n",
    "\n",
    "Make sure that for any new columns that you have engineered, that you've excluded the original columns from the final dataset. Otherwise, their values will interfere with the analysis later on the project. For example, you should not keep \"PRAEGENDE_JUGENDJAHRE\", since its values won't be useful for the algorithm: only the values derived from it in the engineered features you created should be retained. As a reminder, your data should only be from **the subset with few or no missing values**."
   ]
  },
  {
   "cell_type": "code",
   "execution_count": 195,
   "metadata": {},
   "outputs": [
    {
     "data": {
      "text/plain": [
       "float64    41\n",
       "int64      25\n",
       "uint8       7\n",
       "dtype: int64"
      ]
     },
     "execution_count": 195,
     "metadata": {},
     "output_type": "execute_result"
    }
   ],
   "source": [
    "subset_below.dtypes.value_counts()"
   ]
  },
  {
   "cell_type": "markdown",
   "metadata": {},
   "source": [
    "### Step 1.3: Create a Cleaning Function\n",
    "\n",
    "Even though you've finished cleaning up the general population demographics data, it's important to look ahead to the future and realize that you'll need to perform the same cleaning steps on the customer demographics data. In this substep, complete the function below to execute the main feature selection, encoding, and re-engineering steps you performed above. Then, when it comes to looking at the customer data in Step 3, you can just run this function on that DataFrame to get the trimmed dataset in a single step."
   ]
  },
  {
   "cell_type": "code",
   "execution_count": 198,
   "metadata": {},
   "outputs": [],
   "source": [
    "def replace_nan(dataframe):\n",
    "    '''\n",
    "    replace values in a column according to feat_info['attribute'] with np.nan\n",
    "    '''\n",
    "    features = feat_info['attribute']\n",
    "    \n",
    "    for feature in features:\n",
    "        missing_str = feat_info[feat_info['attribute'] == feature]['missing_or_unknown']\n",
    "        s = missing_str.values[0][1:][:-1].split(',')\n",
    "        if s[0]:\n",
    "            if(dataframe.dtypes[feature] == 'object'):\n",
    "                d = {n: np.nan for n in list(map(lambda x: str(x), s))}\n",
    "            else:\n",
    "                d = {n: np.nan for n in list(map(lambda x: int(x), s))}\n",
    "\n",
    "            dataframe[feature] = dataframe[feature].replace(d)\n",
    "            \n",
    "    return dataframe\n",
    "\n",
    "def remove_outliers(dataframe):\n",
    "    '''\n",
    "    drop outliers columns\n",
    "    '''\n",
    "    \n",
    "    outliers_features = ['TITEL_KZ','AGER_TYP','KK_KUNDENTYP','KBA05_BAUMAX',\n",
    "                         'GEBURTSJAHR','ALTER_HH']\n",
    "    dataframe = dataframe.drop(labels=outliers_features, axis=1)\n",
    "    return dataframe\n",
    "\n",
    "def select_subset(dataframe):\n",
    "    '''\n",
    "    divides dataframe in two subsets according to threshold\n",
    "    '''\n",
    "    \n",
    "    threshold = 20\n",
    "    na_rows = dataframe.isnull().sum(axis=1)\n",
    "    subset_below = dataframe[na_rows <= threshold]\n",
    "    return subset_below\n",
    "\n",
    "def preprocessing_categorical(dataframe):\n",
    "    \n",
    "    # Reencode binary variable which have non-numeric value\n",
    "    d = {'W': 0, 'O': 1}\n",
    "    dataframe['OST_WEST_KZ'] = dataframe['OST_WEST_KZ'].map(d)\n",
    "    \n",
    "    # dropping features with more than 4 levels\n",
    "    drop_features = ['CAMEO_DEU_2015', 'FINANZTYP', 'GFK_URLAUBERTYP', 'LP_FAMILIE_GROB',\n",
    "                 'LP_FAMILIE_FEIN', 'LP_STATUS_GROB','LP_STATUS_FEIN', 'ZABEOTYP',\n",
    "                 'CAMEO_DEUG_2015', 'GEBAEUDETYP', 'CJT_GESAMTTYP']\n",
    "    dataframe = dataframe.drop(labels=drop_features, axis=1)\n",
    "    \n",
    "    # variables with 2 labels: don't do nothing\n",
    "    # encoding features with 3 or 4 level\n",
    "    encoding_feat = ['NATIONALITAET_KZ','SHOPPER_TYP']\n",
    "    dataframe = pd.get_dummies(dataframe, columns=encoding_feat)\n",
    "    return dataframe\n",
    "\n",
    "def preprocessing_mixed(dataframe):\n",
    "\n",
    "    # engineer 6 new variables\n",
    "    dataframe['PRAEGENDE_JUGENDJAHRE_YEAR'] = dataframe['PRAEGENDE_JUGENDJAHRE'].map(map_year)\n",
    "    dataframe['PRAEGENDE_JUGENDJAHRE_MOVEMENT'] = dataframe['PRAEGENDE_JUGENDJAHRE'].map(map_movement)\n",
    "    dataframe['CAMEO_INTL_2015_WEALTH'] = dataframe['CAMEO_INTL_2015'].map(map_wealth)\n",
    "    dataframe['CAMEO_INTL_2015_LIFE_STAGE'] = dataframe['CAMEO_INTL_2015'].map(map_life_stage)\n",
    "    dataframe['WOHNLAGE_RURAL'] = dataframe['WOHNLAGE'].map(map_wohnlage_rural);\n",
    "    dataframe['PLZ8_BAUMAX_BUSINESS'] = dataframe['PLZ8_BAUMAX'].map(map_plz8_baumax);\n",
    "    \n",
    "    # remove mixed features from dataframe\n",
    "    mixed_feat = ['LP_LEBENSPHASE_FEIN', 'LP_LEBENSPHASE_GROB','PRAEGENDE_JUGENDJAHRE'\n",
    "                  , 'WOHNLAGE', 'CAMEO_INTL_2015', 'PLZ8_BAUMAX']\n",
    "    dataframe = dataframe.drop(labels=mixed_feat, axis=1)\n",
    "    \n",
    "    return dataframe"
   ]
  },
  {
   "cell_type": "code",
   "execution_count": 199,
   "metadata": {},
   "outputs": [],
   "source": [
    "def clean_data(df):\n",
    "    \"\"\"\n",
    "    Perform feature trimming, re-encoding, and engineering for demographics\n",
    "    data\n",
    "    \n",
    "    INPUT: Demographics DataFrame\n",
    "    OUTPUT: Trimmed and cleaned demographics DataFrame\n",
    "    \"\"\"    \n",
    "    # Put in code here to execute all main cleaning steps:\n",
    "    # convert missing value codes into NaNs, ...\n",
    "    # remove selected columns and rows, ...\n",
    "    # select, re-encode, and engineer column values.\n",
    "    # Return the cleaned dataframe.\n",
    "    x = replace_nan(df)\n",
    "    x = remove_outliers(x)\n",
    "    x = select_subset(x)\n",
    "    x = preprocessing_categorical(x)\n",
    "    x = preprocessing_mixed(x)\n",
    "    return x"
   ]
  },
  {
   "cell_type": "markdown",
   "metadata": {},
   "source": [
    "## Step 2: Feature Transformation\n",
    "\n",
    "### Step 2.1: Apply Feature Scaling\n",
    "\n",
    "Before we apply dimensionality reduction techniques to the data, we need to perform feature scaling so that the principal component vectors are not influenced by the natural differences in scale for features. Starting from this part of the project, you'll want to keep an eye on the [API reference page for sklearn](http://scikit-learn.org/stable/modules/classes.html) to help you navigate to all of the classes and functions that you'll need. In this substep, you'll need to check the following:\n",
    "\n",
    "- sklearn requires that data not have missing values in order for its estimators to work properly. So, before applying the scaler to your data, make sure that you've cleaned the DataFrame of the remaining missing values. This can be as simple as just removing all data points with missing data, or applying an [Imputer](http://scikit-learn.org/stable/modules/generated/sklearn.preprocessing.Imputer.html) to replace all missing values. You might also try a more complicated procedure where you temporarily remove missing values in order to compute the scaling parameters before re-introducing those missing values and applying imputation. Think about how much missing data you have and what possible effects each approach might have on your analysis, and justify your decision in the discussion section below.\n",
    "- For the actual scaling function, a [StandardScaler](http://scikit-learn.org/stable/modules/generated/sklearn.preprocessing.StandardScaler.html) instance is suggested, scaling each feature to mean 0 and standard deviation 1.\n",
    "- For these classes, you can make use of the `.fit_transform()` method to both fit a procedure to the data as well as apply the transformation to the data at the same time. Don't forget to keep the fit sklearn objects handy, since you'll be applying them to the customer demographics data towards the end of the project."
   ]
  },
  {
   "cell_type": "code",
   "execution_count": 200,
   "metadata": {},
   "outputs": [],
   "source": [
    "# Fill missing values\n",
    "inputer = Imputer(missing_values=np.nan, strategy='most_frequent', axis=0)\n",
    "X = inputer.fit_transform(subset_below)"
   ]
  },
  {
   "cell_type": "code",
   "execution_count": 201,
   "metadata": {},
   "outputs": [],
   "source": [
    "X = pd.DataFrame(X)\n",
    "X.columns = subset_below.columns"
   ]
  },
  {
   "cell_type": "code",
   "execution_count": 203,
   "metadata": {},
   "outputs": [
    {
     "data": {
      "text/html": [
       "<div>\n",
       "<style scoped>\n",
       "    .dataframe tbody tr th:only-of-type {\n",
       "        vertical-align: middle;\n",
       "    }\n",
       "\n",
       "    .dataframe tbody tr th {\n",
       "        vertical-align: top;\n",
       "    }\n",
       "\n",
       "    .dataframe thead th {\n",
       "        text-align: right;\n",
       "    }\n",
       "</style>\n",
       "<table border=\"1\" class=\"dataframe\">\n",
       "  <thead>\n",
       "    <tr style=\"text-align: right;\">\n",
       "      <th></th>\n",
       "      <th>ALTERSKATEGORIE_GROB</th>\n",
       "      <th>ANREDE_KZ</th>\n",
       "      <th>FINANZ_MINIMALIST</th>\n",
       "      <th>FINANZ_SPARER</th>\n",
       "      <th>FINANZ_VORSORGER</th>\n",
       "      <th>FINANZ_ANLEGER</th>\n",
       "      <th>FINANZ_UNAUFFAELLIGER</th>\n",
       "      <th>FINANZ_HAUSBAUER</th>\n",
       "      <th>GREEN_AVANTGARDE</th>\n",
       "      <th>HEALTH_TYP</th>\n",
       "      <th>...</th>\n",
       "      <th>SHOPPER_TYP_0.0</th>\n",
       "      <th>SHOPPER_TYP_1.0</th>\n",
       "      <th>SHOPPER_TYP_2.0</th>\n",
       "      <th>SHOPPER_TYP_3.0</th>\n",
       "      <th>PRAEGENDE_JUGENDJAHRE_YEAR</th>\n",
       "      <th>PRAEGENDE_JUGENDJAHRE_MOVEMENT</th>\n",
       "      <th>CAMEO_INTL_2015_WEALTH</th>\n",
       "      <th>CAMEO_INTL_2015_LIFE_STAGE</th>\n",
       "      <th>WOHNLAGE_RURAL</th>\n",
       "      <th>PLZ8_BAUMAX_BUSINESS</th>\n",
       "    </tr>\n",
       "  </thead>\n",
       "  <tbody>\n",
       "    <tr>\n",
       "      <th>0</th>\n",
       "      <td>1.0</td>\n",
       "      <td>2.0</td>\n",
       "      <td>1.0</td>\n",
       "      <td>5.0</td>\n",
       "      <td>2.0</td>\n",
       "      <td>5.0</td>\n",
       "      <td>4.0</td>\n",
       "      <td>5.0</td>\n",
       "      <td>0.0</td>\n",
       "      <td>3.0</td>\n",
       "      <td>...</td>\n",
       "      <td>0.0</td>\n",
       "      <td>0.0</td>\n",
       "      <td>0.0</td>\n",
       "      <td>1.0</td>\n",
       "      <td>6.0</td>\n",
       "      <td>1.0</td>\n",
       "      <td>5.0</td>\n",
       "      <td>1.0</td>\n",
       "      <td>0.0</td>\n",
       "      <td>0.0</td>\n",
       "    </tr>\n",
       "    <tr>\n",
       "      <th>1</th>\n",
       "      <td>3.0</td>\n",
       "      <td>2.0</td>\n",
       "      <td>1.0</td>\n",
       "      <td>4.0</td>\n",
       "      <td>1.0</td>\n",
       "      <td>2.0</td>\n",
       "      <td>3.0</td>\n",
       "      <td>5.0</td>\n",
       "      <td>1.0</td>\n",
       "      <td>3.0</td>\n",
       "      <td>...</td>\n",
       "      <td>0.0</td>\n",
       "      <td>0.0</td>\n",
       "      <td>1.0</td>\n",
       "      <td>0.0</td>\n",
       "      <td>6.0</td>\n",
       "      <td>0.0</td>\n",
       "      <td>2.0</td>\n",
       "      <td>4.0</td>\n",
       "      <td>0.0</td>\n",
       "      <td>0.0</td>\n",
       "    </tr>\n",
       "    <tr>\n",
       "      <th>2</th>\n",
       "      <td>4.0</td>\n",
       "      <td>2.0</td>\n",
       "      <td>4.0</td>\n",
       "      <td>2.0</td>\n",
       "      <td>5.0</td>\n",
       "      <td>2.0</td>\n",
       "      <td>1.0</td>\n",
       "      <td>2.0</td>\n",
       "      <td>0.0</td>\n",
       "      <td>2.0</td>\n",
       "      <td>...</td>\n",
       "      <td>0.0</td>\n",
       "      <td>1.0</td>\n",
       "      <td>0.0</td>\n",
       "      <td>0.0</td>\n",
       "      <td>4.0</td>\n",
       "      <td>1.0</td>\n",
       "      <td>1.0</td>\n",
       "      <td>2.0</td>\n",
       "      <td>1.0</td>\n",
       "      <td>0.0</td>\n",
       "    </tr>\n",
       "    <tr>\n",
       "      <th>3</th>\n",
       "      <td>3.0</td>\n",
       "      <td>1.0</td>\n",
       "      <td>4.0</td>\n",
       "      <td>3.0</td>\n",
       "      <td>4.0</td>\n",
       "      <td>1.0</td>\n",
       "      <td>3.0</td>\n",
       "      <td>2.0</td>\n",
       "      <td>0.0</td>\n",
       "      <td>3.0</td>\n",
       "      <td>...</td>\n",
       "      <td>0.0</td>\n",
       "      <td>0.0</td>\n",
       "      <td>1.0</td>\n",
       "      <td>0.0</td>\n",
       "      <td>4.0</td>\n",
       "      <td>1.0</td>\n",
       "      <td>4.0</td>\n",
       "      <td>3.0</td>\n",
       "      <td>0.0</td>\n",
       "      <td>0.0</td>\n",
       "    </tr>\n",
       "    <tr>\n",
       "      <th>4</th>\n",
       "      <td>1.0</td>\n",
       "      <td>2.0</td>\n",
       "      <td>3.0</td>\n",
       "      <td>1.0</td>\n",
       "      <td>5.0</td>\n",
       "      <td>2.0</td>\n",
       "      <td>2.0</td>\n",
       "      <td>5.0</td>\n",
       "      <td>0.0</td>\n",
       "      <td>3.0</td>\n",
       "      <td>...</td>\n",
       "      <td>1.0</td>\n",
       "      <td>0.0</td>\n",
       "      <td>0.0</td>\n",
       "      <td>0.0</td>\n",
       "      <td>2.0</td>\n",
       "      <td>1.0</td>\n",
       "      <td>5.0</td>\n",
       "      <td>4.0</td>\n",
       "      <td>1.0</td>\n",
       "      <td>0.0</td>\n",
       "    </tr>\n",
       "  </tbody>\n",
       "</table>\n",
       "<p>5 rows × 73 columns</p>\n",
       "</div>"
      ],
      "text/plain": [
       "   ALTERSKATEGORIE_GROB  ANREDE_KZ  FINANZ_MINIMALIST  FINANZ_SPARER  \\\n",
       "0                   1.0        2.0                1.0            5.0   \n",
       "1                   3.0        2.0                1.0            4.0   \n",
       "2                   4.0        2.0                4.0            2.0   \n",
       "3                   3.0        1.0                4.0            3.0   \n",
       "4                   1.0        2.0                3.0            1.0   \n",
       "\n",
       "   FINANZ_VORSORGER  FINANZ_ANLEGER  FINANZ_UNAUFFAELLIGER  FINANZ_HAUSBAUER  \\\n",
       "0               2.0             5.0                    4.0               5.0   \n",
       "1               1.0             2.0                    3.0               5.0   \n",
       "2               5.0             2.0                    1.0               2.0   \n",
       "3               4.0             1.0                    3.0               2.0   \n",
       "4               5.0             2.0                    2.0               5.0   \n",
       "\n",
       "   GREEN_AVANTGARDE  HEALTH_TYP          ...           SHOPPER_TYP_0.0  \\\n",
       "0               0.0         3.0          ...                       0.0   \n",
       "1               1.0         3.0          ...                       0.0   \n",
       "2               0.0         2.0          ...                       0.0   \n",
       "3               0.0         3.0          ...                       0.0   \n",
       "4               0.0         3.0          ...                       1.0   \n",
       "\n",
       "   SHOPPER_TYP_1.0  SHOPPER_TYP_2.0  SHOPPER_TYP_3.0  \\\n",
       "0              0.0              0.0              1.0   \n",
       "1              0.0              1.0              0.0   \n",
       "2              1.0              0.0              0.0   \n",
       "3              0.0              1.0              0.0   \n",
       "4              0.0              0.0              0.0   \n",
       "\n",
       "   PRAEGENDE_JUGENDJAHRE_YEAR  PRAEGENDE_JUGENDJAHRE_MOVEMENT  \\\n",
       "0                         6.0                             1.0   \n",
       "1                         6.0                             0.0   \n",
       "2                         4.0                             1.0   \n",
       "3                         4.0                             1.0   \n",
       "4                         2.0                             1.0   \n",
       "\n",
       "   CAMEO_INTL_2015_WEALTH  CAMEO_INTL_2015_LIFE_STAGE  WOHNLAGE_RURAL  \\\n",
       "0                     5.0                         1.0             0.0   \n",
       "1                     2.0                         4.0             0.0   \n",
       "2                     1.0                         2.0             1.0   \n",
       "3                     4.0                         3.0             0.0   \n",
       "4                     5.0                         4.0             1.0   \n",
       "\n",
       "   PLZ8_BAUMAX_BUSINESS  \n",
       "0                   0.0  \n",
       "1                   0.0  \n",
       "2                   0.0  \n",
       "3                   0.0  \n",
       "4                   0.0  \n",
       "\n",
       "[5 rows x 73 columns]"
      ]
     },
     "execution_count": 203,
     "metadata": {},
     "output_type": "execute_result"
    }
   ],
   "source": [
    "X.head()"
   ]
  },
  {
   "cell_type": "code",
   "execution_count": 204,
   "metadata": {
    "scrolled": true
   },
   "outputs": [],
   "source": [
    "# Apply feature scaling to the general population demographics data.\n",
    "scaler = StandardScaler()\n",
    "X_scaled = scaler.fit_transform(X)\n",
    "X_scaled = pd.DataFrame(X_scaled)"
   ]
  },
  {
   "cell_type": "markdown",
   "metadata": {},
   "source": [
    "### Discussion 2.1: Apply Feature Scaling\n"
   ]
  },
  {
   "cell_type": "markdown",
   "metadata": {},
   "source": [
    "The missing values were replaced by the most common value in the columns. Then, standard scaler (remove the mean and scale to unit variance) were applied to the data."
   ]
  },
  {
   "cell_type": "markdown",
   "metadata": {},
   "source": [
    "### Step 2.2: Perform Dimensionality Reduction\n",
    "\n",
    "On your scaled data, you are now ready to apply dimensionality reduction techniques.\n",
    "\n",
    "- Use sklearn's [PCA](http://scikit-learn.org/stable/modules/generated/sklearn.decomposition.PCA.html) class to apply principal component analysis on the data, thus finding the vectors of maximal variance in the data. To start, you should not set any parameters (so all components are computed) or set a number of components that is at least half the number of features (so there's enough features to see the general trend in variability).\n",
    "- Check out the ratio of variance explained by each principal component as well as the cumulative variance explained. Try plotting the cumulative or sequential values using matplotlib's [`plot()`](https://matplotlib.org/api/_as_gen/matplotlib.pyplot.plot.html) function. Based on what you find, select a value for the number of transformed features you'll retain for the clustering part of the project.\n",
    "- Once you've made a choice for the number of components to keep, make sure you re-fit a PCA instance to perform the decided-on transformation."
   ]
  },
  {
   "cell_type": "code",
   "execution_count": 205,
   "metadata": {},
   "outputs": [
    {
     "data": {
      "text/plain": [
       "(797426, 73)"
      ]
     },
     "execution_count": 205,
     "metadata": {},
     "output_type": "execute_result"
    }
   ],
   "source": [
    "# Apply PCA to the data.\n",
    "pca = PCA()\n",
    "X_pca = pca.fit_transform(X_scaled)\n",
    "X_pca.shape"
   ]
  },
  {
   "cell_type": "code",
   "execution_count": 206,
   "metadata": {},
   "outputs": [],
   "source": [
    "def scree_plot(pca):\n",
    "    num_components=len(pca.explained_variance_ratio_)\n",
    "    ind = np.arange(num_components)\n",
    "    vals = pca.explained_variance_ratio_\n",
    " \n",
    "    plt.figure(figsize=(10, 6))\n",
    "    ax = plt.subplot(111)\n",
    "    cumvals = np.cumsum(vals)\n",
    "    ax.bar(ind, vals)\n",
    "    ax.plot(ind, cumvals)\n",
    "    ax.xaxis.set_tick_params(width=0)\n",
    "    ax.yaxis.set_tick_params(width=2, length=12)\n",
    "    ax.set_yticks(np.arange(0,1+0.1,0.1))\n",
    "    ax.set_xlabel(\"Principal Component\")\n",
    "    ax.set_ylabel(\"Variance Explained (%)\")\n",
    "    plt.title('Explained Variance Per Principal Component')"
   ]
  },
  {
   "cell_type": "code",
   "execution_count": 207,
   "metadata": {},
   "outputs": [
    {
     "data": {
      "text/plain": [
       "0.44112618930467845"
      ]
     },
     "execution_count": 207,
     "metadata": {},
     "output_type": "execute_result"
    }
   ],
   "source": [
    "# first 5 components explained variance\n",
    "pca.explained_variance_ratio_[:5].sum()\n"
   ]
  },
  {
   "cell_type": "code",
   "execution_count": 208,
   "metadata": {},
   "outputs": [
    {
     "data": {
      "text/plain": [
       "0.15332737516952888"
      ]
     },
     "execution_count": 208,
     "metadata": {},
     "output_type": "execute_result"
    }
   ],
   "source": [
    "# components higher than 30 explained variance\n",
    "pca.explained_variance_ratio_[30:].sum()"
   ]
  },
  {
   "cell_type": "code",
   "execution_count": 209,
   "metadata": {},
   "outputs": [
    {
     "data": {
      "image/png": "[encoded data removed]",
      "text/plain": [
       "<matplotlib.figure.Figure at 0x7fede8a8ce48>"
      ]
     },
     "metadata": {},
     "output_type": "display_data"
    }
   ],
   "source": [
    "# Investigate the variance accounted for by each principal component.\n",
    "scree_plot(pca)"
   ]
  },
  {
   "cell_type": "code",
   "execution_count": 253,
   "metadata": {},
   "outputs": [
    {
     "data": {
      "text/plain": [
       "(797426, 30)"
      ]
     },
     "execution_count": 253,
     "metadata": {},
     "output_type": "execute_result"
    }
   ],
   "source": [
    "# Re-apply PCA to the data while selecting for number of components to retain.\n",
    "pca = PCA(n_components=30)\n",
    "X_pca = pca.fit_transform(X_scaled)\n",
    "X_pca.shape"
   ]
  },
  {
   "cell_type": "markdown",
   "metadata": {},
   "source": [
    "### Discussion 2.2: Perform Dimensionality Reduction\n"
   ]
  },
  {
   "cell_type": "markdown",
   "metadata": {},
   "source": [
    "The Scree plot shows the amount of variability explained by each principal component. The amount of variability explained are the eigenvalues and the principal components themselves are the eigenvectors. After 30 components, the variability per component is very small. The value chosen for the number of principal components  will be 30 and results in about 85% of variability explained."
   ]
  },
  {
   "cell_type": "markdown",
   "metadata": {},
   "source": [
    "### Step 2.3: Interpret Principal Components\n",
    "\n",
    "Now that we have our transformed principal components, it's a nice idea to check out the weight of each variable on the first few components to see if they can be interpreted in some fashion.\n",
    "\n",
    "As a reminder, each principal component is a unit vector that points in the direction of highest variance (after accounting for the variance captured by earlier principal components). The further a weight is from zero, the more the principal component is in the direction of the corresponding feature. If two features have large weights of the same sign (both positive or both negative), then increases in one tend expect to be associated with increases in the other. To contrast, features with different signs can be expected to show a negative correlation: increases in one variable should result in a decrease in the other.\n",
    "\n",
    "- To investigate the features, you should map each weight to their corresponding feature name, then sort the features according to weight. The most interesting features for each principal component, then, will be those at the beginning and end of the sorted list. Use the data dictionary document to help you understand these most prominent features, their relationships, and what a positive or negative value on the principal component might indicate.\n",
    "- You should investigate and interpret feature associations from the first three principal components in this substep. To help facilitate this, you should write a function that you can call at any time to print the sorted list of feature weights, for the *i*-th principal component. This might come in handy in the next step of the project, when you interpret the tendencies of the discovered clusters."
   ]
  },
  {
   "cell_type": "code",
   "execution_count": 254,
   "metadata": {},
   "outputs": [],
   "source": [
    "feat_names = subset_below.columns\n",
    "def pca_weight(pca, n):\n",
    "    d = {}\n",
    "    for i, f in enumerate(feat_names):\n",
    "        d[f] = pca.components_[n][i]\n",
    "    return sorted(d.items(), key=lambda kv: kv[1], reverse=True)"
   ]
  },
  {
   "cell_type": "code",
   "execution_count": 255,
   "metadata": {
    "scrolled": true
   },
   "outputs": [
    {
     "data": {
      "text/plain": [
       "[('PLZ8_ANTG3', 0.22196066321120969),\n",
       " ('PLZ8_ANTG4', 0.21501683340909034),\n",
       " ('ORTSGR_KLS9', 0.20007853179078355),\n",
       " ('CAMEO_INTL_2015_WEALTH', 0.19796518728495097),\n",
       " ('EWDICHTE', 0.19686843325871853),\n",
       " ('HH_EINKOMMEN_SCORE', 0.19386457690964967),\n",
       " ('FINANZ_HAUSBAUER', 0.15474789985905824),\n",
       " ('PLZ8_ANTG2', 0.15103884322704225),\n",
       " ('KBA05_ANTG4', 0.15075289966466138),\n",
       " ('PLZ8_BAUMAX_BUSINESS', 0.14412997661094532),\n",
       " ('FINANZ_SPARER', 0.14245108350986749),\n",
       " ('ARBEIT', 0.14127784000261825),\n",
       " ('RELAT_AB', 0.13435148871553812),\n",
       " ('ANZ_HAUSHALTE_AKTIV', 0.13299792503208804),\n",
       " ('KBA05_ANTG3', 0.13127730287642794),\n",
       " ('SEMIO_PFLICHT', 0.11325898563806087),\n",
       " ('SEMIO_REL', 0.11046629357146154),\n",
       " ('PRAEGENDE_JUGENDJAHRE_YEAR', 0.10308745750201281),\n",
       " ('PRAEGENDE_JUGENDJAHRE_MOVEMENT', 0.1009395908194997),\n",
       " ('SEMIO_RAT', 0.092858503005929668),\n",
       " ('SEMIO_TRADV', 0.085753126622770903),\n",
       " ('SEMIO_MAT', 0.076909211411447187),\n",
       " ('SEMIO_FAM', 0.075435046370931833),\n",
       " ('FINANZ_UNAUFFAELLIGER', 0.073801155173564545),\n",
       " ('SEMIO_KULT', 0.069388966181129649),\n",
       " ('FINANZ_ANLEGER', 0.064822426900091837),\n",
       " ('NATIONALITAET_KZ_2.0', 0.062091628955283674),\n",
       " ('REGIOTYP', 0.056680525017843993),\n",
       " ('OST_WEST_KZ', 0.049906254583202615),\n",
       " ('PLZ8_HHZ', 0.043536236967224272),\n",
       " ('SEMIO_KAEM', 0.041302911478598096),\n",
       " ('HEALTH_TYP', 0.040869618415180907),\n",
       " ('SEMIO_SOZ', 0.03945618601050202),\n",
       " ('SHOPPER_TYP_2.0', 0.038205971548547379),\n",
       " ('W_KEIT_KIND_HH', 0.036444827163619034),\n",
       " ('KKK', 0.035348842338224946),\n",
       " ('VERS_TYP', 0.034311183926414274),\n",
       " ('NATIONALITAET_KZ_3.0', 0.034133190106838553),\n",
       " ('ANZ_HH_TITEL', 0.033814299076346088),\n",
       " ('SEMIO_DOM', 0.0268538611585129),\n",
       " ('KBA05_ANTG2', 0.01311514058638088),\n",
       " ('ANREDE_KZ', 0.0081637095216649507),\n",
       " ('SEMIO_KRIT', 0.0066735631833647543),\n",
       " ('SHOPPER_TYP_1.0', 0.0013061902402978275),\n",
       " ('SOHO_KZ', -0.001936418013399524),\n",
       " ('ANZ_TITEL', -0.0033674673585176438),\n",
       " ('RETOURTYP_BK_S', -0.016017853654083702),\n",
       " ('SHOPPER_TYP_0.0', -0.020306364384650818),\n",
       " ('SEMIO_VERT', -0.040507363558099405),\n",
       " ('ONLINE_AFFINITAET', -0.042699040380271995),\n",
       " ('SHOPPER_TYP_3.0', -0.043615787538576908),\n",
       " ('MIN_GEBAEUDEJAHR', -0.044498991202273838),\n",
       " ('WOHNDAUER_2008', -0.057385316120480721),\n",
       " ('SEMIO_LUST', -0.069775220559904275),\n",
       " ('SEMIO_ERL', -0.072913057218277663),\n",
       " ('KBA13_ANZAHL_PKW', -0.073653157888037946),\n",
       " ('ANZ_PERSONEN', -0.075269512574906036),\n",
       " ('NATIONALITAET_KZ_1.0', -0.085518776734274909),\n",
       " ('GREEN_AVANTGARDE', -0.1009395908194997),\n",
       " ('FINANZ_VORSORGER', -0.11054642811671896),\n",
       " ('ALTERSKATEGORIE_GROB', -0.11606122171194001),\n",
       " ('GEBAEUDETYP_RASTER', -0.11758371339809134),\n",
       " ('CAMEO_INTL_2015_LIFE_STAGE', -0.12144408412222862),\n",
       " ('BALLRAUM', -0.12879092028091799),\n",
       " ('WOHNLAGE_RURAL', -0.14525225073430195),\n",
       " ('PLZ8_GBZ', -0.16340628233530172),\n",
       " ('INNENSTADT', -0.16537251307820505),\n",
       " ('KONSUMNAEHE', -0.16730695951203001),\n",
       " ('KBA05_ANTG1', -0.20687225498873418),\n",
       " ('KBA05_GBZ', -0.20977637238981411),\n",
       " ('FINANZ_MINIMALIST', -0.21236047423565085),\n",
       " ('MOBI_REGIO', -0.2180092542317292),\n",
       " ('PLZ8_ANTG1', -0.22164643397155839)]"
      ]
     },
     "execution_count": 255,
     "metadata": {},
     "output_type": "execute_result"
    }
   ],
   "source": [
    "# Map weights for the first principal component to corresponding feature names\n",
    "# and then print the linked values, sorted by weight.\n",
    "d = pca_weight(pca, 0)\n",
    "d"
   ]
  },
  {
   "cell_type": "code",
   "execution_count": 261,
   "metadata": {},
   "outputs": [
    {
     "data": {
      "text/plain": [
       "[('ALTERSKATEGORIE_GROB', 0.25387115299079183),\n",
       " ('SEMIO_ERL', 0.23187334294012124),\n",
       " ('FINANZ_VORSORGER', 0.22494803410928207),\n",
       " ('SEMIO_LUST', 0.17820187416133593),\n",
       " ('RETOURTYP_BK_S', 0.15631943086036293),\n",
       " ('SEMIO_KAEM', 0.12073781046637669),\n",
       " ('SEMIO_KRIT', 0.11983700718174131),\n",
       " ('FINANZ_HAUSBAUER', 0.1126056860413238),\n",
       " ('W_KEIT_KIND_HH', 0.107576157894772),\n",
       " ('ANREDE_KZ', 0.098314643089101525),\n",
       " ('SHOPPER_TYP_3.0', 0.0965658024799909),\n",
       " ('EWDICHTE', 0.093538162458797841),\n",
       " ('ORTSGR_KLS9', 0.09300796458800295),\n",
       " ('PLZ8_ANTG3', 0.090676070080660406),\n",
       " ('PLZ8_ANTG4', 0.08901362288334165),\n",
       " ('SEMIO_DOM', 0.080510993203772557),\n",
       " ('NATIONALITAET_KZ_1.0', 0.070672958542694689),\n",
       " ('CAMEO_INTL_2015_WEALTH', 0.069058782918195033),\n",
       " ('KBA05_ANTG4', 0.06877837143143635),\n",
       " ('ARBEIT', 0.067207662881046112),\n",
       " ('RELAT_AB', 0.064744236087681678),\n",
       " ('FINANZ_MINIMALIST', 0.063297618776921499),\n",
       " ('PLZ8_ANTG2', 0.062294133254677336),\n",
       " ('ANZ_HAUSHALTE_AKTIV', 0.060195884401484427),\n",
       " ('WOHNDAUER_2008', 0.058059297001323298),\n",
       " ('PLZ8_BAUMAX_BUSINESS', 0.053523715128707322),\n",
       " ('HH_EINKOMMEN_SCORE', 0.050311280383919965),\n",
       " ('KBA05_ANTG3', 0.04381459366448831),\n",
       " ('ANZ_HH_TITEL', 0.030766056281305919),\n",
       " ('VERS_TYP', 0.0269394565002322),\n",
       " ('OST_WEST_KZ', 0.0250472563395885),\n",
       " ('SHOPPER_TYP_2.0', 0.020066070893763159),\n",
       " ('PLZ8_HHZ', 0.015362893889176285),\n",
       " ('PRAEGENDE_JUGENDJAHRE_MOVEMENT', 0.009393563795899243),\n",
       " ('REGIOTYP', 0.0081199599368514085),\n",
       " ('ANZ_TITEL', 0.0071676964750645514),\n",
       " ('CAMEO_INTL_2015_LIFE_STAGE', 0.0036084225133944602),\n",
       " ('SOHO_KZ', -0.0018208505037580599),\n",
       " ('KBA05_ANTG2', -0.0029866655089842305),\n",
       " ('KKK', -0.0034100711694411596),\n",
       " ('GREEN_AVANTGARDE', -0.009393563795899243),\n",
       " ('KBA13_ANZAHL_PKW', -0.035275366698758547),\n",
       " ('SHOPPER_TYP_1.0', -0.0403352900497067),\n",
       " ('GEBAEUDETYP_RASTER', -0.043911200020235339),\n",
       " ('MIN_GEBAEUDEJAHR', -0.044995507466345341),\n",
       " ('NATIONALITAET_KZ_3.0', -0.049948476793100167),\n",
       " ('NATIONALITAET_KZ_2.0', -0.051374715151904532),\n",
       " ('HEALTH_TYP', -0.05799733941771195),\n",
       " ('ANZ_PERSONEN', -0.058868817197975896),\n",
       " ('BALLRAUM', -0.061714282953452444),\n",
       " ('KBA05_ANTG1', -0.065398561096838517),\n",
       " ('PLZ8_GBZ', -0.0690106300627953),\n",
       " ('KONSUMNAEHE', -0.069639434418775278),\n",
       " ('WOHNLAGE_RURAL', -0.070122731674462604),\n",
       " ('MOBI_REGIO', -0.072149201936371823),\n",
       " ('SEMIO_VERT', -0.075033968079020782),\n",
       " ('INNENSTADT', -0.075464569014343605),\n",
       " ('SHOPPER_TYP_0.0', -0.076833828536955015),\n",
       " ('KBA05_GBZ', -0.083304530551525646),\n",
       " ('PLZ8_ANTG1', -0.088066108600099488),\n",
       " ('SEMIO_SOZ', -0.10581685547247829),\n",
       " ('ONLINE_AFFINITAET', -0.1564362269107259),\n",
       " ('SEMIO_MAT', -0.16188164433178537),\n",
       " ('SEMIO_RAT', -0.16270407549906377),\n",
       " ('SEMIO_FAM', -0.18871382320217669),\n",
       " ('FINANZ_ANLEGER', -0.19914198446630041),\n",
       " ('FINANZ_UNAUFFAELLIGER', -0.21974660761972817),\n",
       " ('SEMIO_KULT', -0.22297482679124489),\n",
       " ('SEMIO_PFLICHT', -0.22412489166934532),\n",
       " ('SEMIO_TRADV', -0.22472845677124198),\n",
       " ('FINANZ_SPARER', -0.22982401147608192),\n",
       " ('PRAEGENDE_JUGENDJAHRE_YEAR', -0.23423966647526895),\n",
       " ('SEMIO_REL', -0.25599589145234097)]"
      ]
     },
     "execution_count": 261,
     "metadata": {},
     "output_type": "execute_result"
    }
   ],
   "source": [
    "# Map weights for the second principal component to corresponding feature names\n",
    "# and then print the linked values, sorted by weight.\n",
    "d = pca_weight(pca, 1)\n",
    "d"
   ]
  },
  {
   "cell_type": "code",
   "execution_count": 262,
   "metadata": {},
   "outputs": [
    {
     "data": {
      "text/plain": [
       "[('SEMIO_VERT', 0.33505527491760928),\n",
       " ('SEMIO_SOZ', 0.25504431984158021),\n",
       " ('SEMIO_FAM', 0.23817559439196068),\n",
       " ('SEMIO_KULT', 0.22140374245716329),\n",
       " ('FINANZ_MINIMALIST', 0.15361080588250542),\n",
       " ('SHOPPER_TYP_0.0', 0.12628125193976453),\n",
       " ('RETOURTYP_BK_S', 0.10943731467371504),\n",
       " ('FINANZ_VORSORGER', 0.10648590025401465),\n",
       " ('W_KEIT_KIND_HH', 0.087378989673841945),\n",
       " ('ALTERSKATEGORIE_GROB', 0.084357212044553251),\n",
       " ('SEMIO_LUST', 0.067823999064121648),\n",
       " ('SEMIO_REL', 0.059172198454103778),\n",
       " ('ORTSGR_KLS9', 0.053664786736321003),\n",
       " ('EWDICHTE', 0.052003207381071066),\n",
       " ('PLZ8_ANTG4', 0.050398524253016039),\n",
       " ('GREEN_AVANTGARDE', 0.049611232592007566),\n",
       " ('PLZ8_ANTG3', 0.048723534905256896),\n",
       " ('SHOPPER_TYP_1.0', 0.048380375999470794),\n",
       " ('SEMIO_MAT', 0.046742888587355036),\n",
       " ('PLZ8_BAUMAX_BUSINESS', 0.040435761363729311),\n",
       " ('ARBEIT', 0.038191986842327122),\n",
       " ('NATIONALITAET_KZ_1.0', 0.037448150322815787),\n",
       " ('RELAT_AB', 0.035058847120629594),\n",
       " ('WOHNDAUER_2008', 0.033861833255811727),\n",
       " ('PLZ8_ANTG2', 0.032274866775762537),\n",
       " ('KBA05_ANTG4', 0.030500272293496278),\n",
       " ('CAMEO_INTL_2015_WEALTH', 0.028494567240800989),\n",
       " ('ANZ_HAUSHALTE_AKTIV', 0.027230726161370365),\n",
       " ('OST_WEST_KZ', 0.015934402431252614),\n",
       " ('ANZ_HH_TITEL', 0.01479945847359436),\n",
       " ('NATIONALITAET_KZ_2.0', 0.014457506624043659),\n",
       " ('KBA05_ANTG3', 0.010319124805147123),\n",
       " ('ANZ_TITEL', 0.0099133947573958048),\n",
       " ('PLZ8_HHZ', 0.0064585739565833824),\n",
       " ('VERS_TYP', 0.0047952354231819011),\n",
       " ('SOHO_KZ', 0.00015194678523437353),\n",
       " ('KBA05_ANTG2', -0.0072665269544102849),\n",
       " ('CAMEO_INTL_2015_LIFE_STAGE', -0.0082604753170305439),\n",
       " ('REGIOTYP', -0.0095868585292045536),\n",
       " ('ANZ_PERSONEN', -0.01128148943224235),\n",
       " ('KKK', -0.017791674555823998),\n",
       " ('HH_EINKOMMEN_SCORE', -0.018283725481830413),\n",
       " ('MIN_GEBAEUDEJAHR', -0.019892428633505359),\n",
       " ('KBA05_ANTG1', -0.020092949227441259),\n",
       " ('KBA13_ANZAHL_PKW', -0.024520565133980363),\n",
       " ('MOBI_REGIO', -0.025527872279994878),\n",
       " ('KBA05_GBZ', -0.028254484102832118),\n",
       " ('GEBAEUDETYP_RASTER', -0.033597071483668049),\n",
       " ('SHOPPER_TYP_3.0', -0.034561951535305065),\n",
       " ('FINANZ_HAUSBAUER', -0.035197734066404134),\n",
       " ('WOHNLAGE_RURAL', -0.036041547557351124),\n",
       " ('HEALTH_TYP', -0.038087707655742167),\n",
       " ('BALLRAUM', -0.038978970216595521),\n",
       " ('PLZ8_GBZ', -0.04094013709661623),\n",
       " ('KONSUMNAEHE', -0.041905692978090027),\n",
       " ('NATIONALITAET_KZ_3.0', -0.046762285044024646),\n",
       " ('INNENSTADT', -0.047547219256509933),\n",
       " ('PLZ8_ANTG1', -0.04935043490822405),\n",
       " ('PRAEGENDE_JUGENDJAHRE_MOVEMENT', -0.049611232592007559),\n",
       " ('ONLINE_AFFINITAET', -0.057264248075975958),\n",
       " ('SEMIO_TRADV', -0.083848847471805321),\n",
       " ('SEMIO_PFLICHT', -0.086473185074253958),\n",
       " ('SHOPPER_TYP_2.0', -0.10366273722249031),\n",
       " ('FINANZ_UNAUFFAELLIGER', -0.104536863070291),\n",
       " ('FINANZ_SPARER', -0.1115774141448367),\n",
       " ('PRAEGENDE_JUGENDJAHRE_YEAR', -0.11604712227895664),\n",
       " ('SEMIO_ERL', -0.16804145860688197),\n",
       " ('FINANZ_ANLEGER', -0.19325061760321552),\n",
       " ('SEMIO_RAT', -0.21867588005684532),\n",
       " ('SEMIO_KRIT', -0.26763375536238182),\n",
       " ('SEMIO_DOM', -0.30599226863968643),\n",
       " ('SEMIO_KAEM', -0.32662151282468582),\n",
       " ('ANREDE_KZ', -0.35668903432537191)]"
      ]
     },
     "execution_count": 262,
     "metadata": {},
     "output_type": "execute_result"
    }
   ],
   "source": [
    "# Map weights for the third principal component to corresponding feature names\n",
    "# and then print the linked values, sorted by weight.\n",
    "\n",
    "d = pca_weight(pca, 2)\n",
    "d"
   ]
  },
  {
   "cell_type": "code",
   "execution_count": 263,
   "metadata": {},
   "outputs": [
    {
     "data": {
      "image/png": "[encoded data removed]",
      "text/plain": [
       "<matplotlib.figure.Figure at 0x7feddaeeca58>"
      ]
     },
     "metadata": {},
     "output_type": "display_data"
    }
   ],
   "source": [
    "# Look for the first 10 components of PCA to see which original features had highest weights\n",
    "\n",
    "fig, ax = plt.subplots(figsize=(15, 15))\n",
    "g = sns.heatmap(pca.components_[:10], ax=ax, square=True, cmap=\"YlGnBu\", \n",
    "            cbar_kws = dict(use_gridspec=False,location=\"top\"), linewidths=.5);\n",
    "g.set_xticklabels(subset_below.columns);\n",
    "g.set_ylabel('Pca components');\n"
   ]
  },
  {
   "cell_type": "markdown",
   "metadata": {},
   "source": [
    "### Discussion 2.3: Interpret Principal Components\n"
   ]
  },
  {
   "cell_type": "markdown",
   "metadata": {},
   "source": [
    "**First component analysis:**\n",
    "\n",
    "1. The first principal component is positively correlated with features regarding:\n",
    "    - the household wealth/income (CAMEO_INTL_2015_WEALTH, HH_EINKOMMEN_SCORE), \n",
    "    - the quantity of larger families in region (PLZ8_ANTG3, PLZ8_ANTG4)\n",
    "    - the density of households in region (EWDICHTE)\n",
    "\n",
    "These features vary together, so high values means larger families living in\n",
    "more dense regions and with a large income/wealth.\n",
    "\n",
    "2. This component increase with the decrease of features (negative correlated): \n",
    "    - the quantity of small households with lower financial typology (PLZ8_ANTG1, KBA05_ANTG1,FINANZ_MINIMALIST)\n",
    "    - number of buildings in region (KBA05_GBZ)\n",
    "    \n",
    "Which represents the number of buildings with smaller family capacity and less\n",
    "expressive financial typology. \n",
    " \n",
    "3. This suggests that this first feature is about wealth and the size of the family.\n",
    "\n",
    "**Second component analysis**\n",
    "\n",
    "\n",
    "1. The second principal component is positively correlated with features regarding:\n",
    "    - age (ALTERSKATEGORIE_GROB, high values means older), \n",
    "    - personality type for event-oriented (SEMIO_ERL, high values meaning low affinity)\n",
    "    - financial typology  for prepared (FINANZ_VORSORGER - be prepared, high values meaning low affinity)\n",
    "\n",
    "These features vary together, so high values means older persons, less event-oriented and\n",
    "not much financial prepared. \n",
    " \n",
    "2. This second component increase with the decrease of features (negative correlated): \n",
    "    - the age (PRAEGENDE_JUGENDJAHRE_YEAR, the less the older)\n",
    "    - personality typology for tradional/cultural/religious-minded (SEMIO_KULT, SEMIO_PFLICHT, SEMIO_TRADV)\n",
    "    - financial typology for money-saver(FINANZ_SPARER)\n",
    "   \n",
    "These features vary together, so decrease them means older persons, with more  traditional/cultural/religious personalities and money-savers.\n",
    "\n",
    "3. This suggests that this first feature is about older persons and financial habits regarding preparing habits.\n",
    "\n",
    "**Third component analysis**\n",
    "\n",
    "1. The third principal component is positively correlated with features regarding:\n",
    "   \n",
    "    - personality typology  ('SEMIO_VERT', 'SEMIO_SOZ','SEMIO_FAM','SEMIO_KULT')\n",
    " \n",
    "These features vary together, so high values means less affinity for personalities like dreamful/socially/family/cultural\n",
    "\n",
    "2. This third principal component increase with the decrease of features (negative correlated):\n",
    "\n",
    "    - personality typology('SEMIO_KRIT', 'SEMIO_DOM','SEMIO_KAEM')\n",
    "    - gender ('ANREDE_KZ')\n",
    "\n",
    "These features vary together, so decrease them means more critical/dominat/combative personalities, probably more complicated to communicate.\n",
    "\n",
    "3. This suggests that this third feature is about more strict personality typologies.\n",
    "\n",
    "\n",
    "Reference: https://newonlinecourses.science.psu.edu/stat505/node/54/"
   ]
  },
  {
   "cell_type": "markdown",
   "metadata": {},
   "source": [
    "## Step 3: Clustering\n",
    "\n",
    "### Step 3.1: Apply Clustering to General Population\n",
    "\n",
    "You've assessed and cleaned the demographics data, then scaled and transformed them. Now, it's time to see how the data clusters in the principal components space. In this substep, you will apply k-means clustering to the dataset and use the average within-cluster distances from each point to their assigned cluster's centroid to decide on a number of clusters to keep.\n",
    "\n",
    "- Use sklearn's [KMeans](http://scikit-learn.org/stable/modules/generated/sklearn.cluster.KMeans.html#sklearn.cluster.KMeans) class to perform k-means clustering on the PCA-transformed data.\n",
    "- Then, compute the average difference from each point to its assigned cluster's center. **Hint**: The KMeans object's `.score()` method might be useful here, but note that in sklearn, scores tend to be defined so that larger is better. Try applying it to a small, toy dataset, or use an internet search to help your understanding.\n",
    "- Perform the above two steps for a number of different cluster counts. You can then see how the average distance decreases with an increasing number of clusters. However, each additional cluster provides a smaller net benefit. Use this fact to select a final number of clusters in which to group the data. **Warning**: because of the large size of the dataset, it can take a long time for the algorithm to resolve. The more clusters to fit, the longer the algorithm will take. You should test for cluster counts through at least 10 clusters to get the full picture, but you shouldn't need to test for a number of clusters above about 30.\n",
    "- Once you've selected a final number of clusters to use, re-fit a KMeans instance to perform the clustering operation. Make sure that you also obtain the cluster assignments for the general demographics data, since you'll be using them in the final Step 3.3."
   ]
  },
  {
   "cell_type": "code",
   "execution_count": 265,
   "metadata": {},
   "outputs": [
    {
     "name": "stdout",
     "output_type": "stream",
     "text": [
      "1\n",
      "3\n",
      "5\n",
      "7\n",
      "9\n",
      "11\n",
      "13\n",
      "15\n",
      "17\n",
      "19\n"
     ]
    }
   ],
   "source": [
    "# Over a number of different cluster counts...\n",
    "    # run k-means clustering on the data and...\n",
    "    # compute the average within-cluster distances.\n",
    "\n",
    "ks = []\n",
    "scores = []\n",
    "for k in np.arange(0,20,2):\n",
    "    print(k+1)\n",
    "    ks.append(k+1)\n",
    "    kmeans = KMeans(n_clusters=k+1)\n",
    "    model = kmeans.fit(X_pca)\n",
    "    score = abs(model.score(X_pca))\n",
    "    scores.append(score)"
   ]
  },
  {
   "cell_type": "code",
   "execution_count": 268,
   "metadata": {},
   "outputs": [
    {
     "data": {
      "text/plain": [
       "(1, 19)"
      ]
     },
     "execution_count": 268,
     "metadata": {},
     "output_type": "execute_result"
    },
    {
     "data": {
      "image/png": "[encoded data removed]",
      "text/plain": [
       "<matplotlib.figure.Figure at 0x7feddd0738d0>"
      ]
     },
     "metadata": {},
     "output_type": "display_data"
    }
   ],
   "source": [
    "# Investigate the change in within-cluster distance across number of clusters.\n",
    "\n",
    "# Plot the score against k\n",
    "plt.plot(ks, scores, linestyle='--', marker='o', color='b');\n",
    "plt.xlabel('K');\n",
    "plt.ylabel('SSE');\n",
    "plt.title('SSE vs. K');\n",
    "plt.xticks(ks);\n",
    "plt.xlim(1,19)\n"
   ]
  },
  {
   "cell_type": "code",
   "execution_count": 276,
   "metadata": {},
   "outputs": [],
   "source": [
    "# Re-fit the k-means model with the selected number of clusters and obtain\n",
    "# cluster predictions for the general population demographics data.\n",
    "\n",
    "kmeans = KMeans(n_clusters=19)\n",
    "model = kmeans.fit(X_pca)\n",
    "preds = model.predict(X_pca)"
   ]
  },
  {
   "cell_type": "markdown",
   "metadata": {},
   "source": [
    "### Discussion 3.1: Apply Clustering to General Population\n",
    "\n",
    "(Double-click this cell and replace this text with your own text, reporting your findings and decisions regarding clustering. Into how many clusters have you decided to segment the population?)"
   ]
  },
  {
   "cell_type": "markdown",
   "metadata": {},
   "source": [
    "KMeans were performed on the reduced dataset (X_pca) containing 30 features. The scores for k from 1 to 19 were described on the Scree Plot, where a good value for k would be the point where adding another cluster (increasing k) does not decrease SSE significantly. There is no clear elbow point in the plot, therefore the value that gives the lowest SSE(k=19) will be used in the next steps."
   ]
  },
  {
   "cell_type": "markdown",
   "metadata": {},
   "source": [
    "### Step 3.2: Apply All Steps to the Customer Data\n",
    "\n",
    "Now that you have clusters and cluster centers for the general population, it's time to see how the customer data maps on to those clusters. Take care to not confuse this for re-fitting all of the models to the customer data. Instead, you're going to use the fits from the general population to clean, transform, and cluster the customer data. In the last step of the project, you will interpret how the general population fits apply to the customer data.\n",
    "\n",
    "- Don't forget when loading in the customers data, that it is semicolon (`;`) delimited.\n",
    "- Apply the same feature wrangling, selection, and engineering steps to the customer demographics using the `clean_data()` function you created earlier. (You can assume that the customer demographics data has similar meaning behind missing data patterns as the general demographics data.)\n",
    "- Use the sklearn objects from the general demographics data, and apply their transformations to the customers data. That is, you should not be using a `.fit()` or `.fit_transform()` method to re-fit the old objects, nor should you be creating new sklearn objects! Carry the data through the feature scaling, PCA, and clustering steps, obtaining cluster assignments for all of the data in the customer demographics data."
   ]
  },
  {
   "cell_type": "code",
   "execution_count": 277,
   "metadata": {},
   "outputs": [
    {
     "data": {
      "text/html": [
       "<div>\n",
       "<style scoped>\n",
       "    .dataframe tbody tr th:only-of-type {\n",
       "        vertical-align: middle;\n",
       "    }\n",
       "\n",
       "    .dataframe tbody tr th {\n",
       "        vertical-align: top;\n",
       "    }\n",
       "\n",
       "    .dataframe thead th {\n",
       "        text-align: right;\n",
       "    }\n",
       "</style>\n",
       "<table border=\"1\" class=\"dataframe\">\n",
       "  <thead>\n",
       "    <tr style=\"text-align: right;\">\n",
       "      <th></th>\n",
       "      <th>AGER_TYP</th>\n",
       "      <th>ALTERSKATEGORIE_GROB</th>\n",
       "      <th>ANREDE_KZ</th>\n",
       "      <th>CJT_GESAMTTYP</th>\n",
       "      <th>FINANZ_MINIMALIST</th>\n",
       "      <th>FINANZ_SPARER</th>\n",
       "      <th>FINANZ_VORSORGER</th>\n",
       "      <th>FINANZ_ANLEGER</th>\n",
       "      <th>FINANZ_UNAUFFAELLIGER</th>\n",
       "      <th>FINANZ_HAUSBAUER</th>\n",
       "      <th>...</th>\n",
       "      <th>PLZ8_ANTG1</th>\n",
       "      <th>PLZ8_ANTG2</th>\n",
       "      <th>PLZ8_ANTG3</th>\n",
       "      <th>PLZ8_ANTG4</th>\n",
       "      <th>PLZ8_BAUMAX</th>\n",
       "      <th>PLZ8_HHZ</th>\n",
       "      <th>PLZ8_GBZ</th>\n",
       "      <th>ARBEIT</th>\n",
       "      <th>ORTSGR_KLS9</th>\n",
       "      <th>RELAT_AB</th>\n",
       "    </tr>\n",
       "  </thead>\n",
       "  <tbody>\n",
       "    <tr>\n",
       "      <th>0</th>\n",
       "      <td>2</td>\n",
       "      <td>4</td>\n",
       "      <td>1</td>\n",
       "      <td>5.0</td>\n",
       "      <td>5</td>\n",
       "      <td>1</td>\n",
       "      <td>5</td>\n",
       "      <td>1</td>\n",
       "      <td>2</td>\n",
       "      <td>2</td>\n",
       "      <td>...</td>\n",
       "      <td>3.0</td>\n",
       "      <td>3.0</td>\n",
       "      <td>1.0</td>\n",
       "      <td>0.0</td>\n",
       "      <td>1.0</td>\n",
       "      <td>5.0</td>\n",
       "      <td>5.0</td>\n",
       "      <td>1.0</td>\n",
       "      <td>2.0</td>\n",
       "      <td>1.0</td>\n",
       "    </tr>\n",
       "    <tr>\n",
       "      <th>1</th>\n",
       "      <td>-1</td>\n",
       "      <td>4</td>\n",
       "      <td>1</td>\n",
       "      <td>NaN</td>\n",
       "      <td>5</td>\n",
       "      <td>1</td>\n",
       "      <td>5</td>\n",
       "      <td>1</td>\n",
       "      <td>3</td>\n",
       "      <td>2</td>\n",
       "      <td>...</td>\n",
       "      <td>NaN</td>\n",
       "      <td>NaN</td>\n",
       "      <td>NaN</td>\n",
       "      <td>NaN</td>\n",
       "      <td>NaN</td>\n",
       "      <td>NaN</td>\n",
       "      <td>NaN</td>\n",
       "      <td>NaN</td>\n",
       "      <td>NaN</td>\n",
       "      <td>NaN</td>\n",
       "    </tr>\n",
       "    <tr>\n",
       "      <th>2</th>\n",
       "      <td>-1</td>\n",
       "      <td>4</td>\n",
       "      <td>2</td>\n",
       "      <td>2.0</td>\n",
       "      <td>5</td>\n",
       "      <td>1</td>\n",
       "      <td>5</td>\n",
       "      <td>1</td>\n",
       "      <td>4</td>\n",
       "      <td>4</td>\n",
       "      <td>...</td>\n",
       "      <td>2.0</td>\n",
       "      <td>3.0</td>\n",
       "      <td>3.0</td>\n",
       "      <td>1.0</td>\n",
       "      <td>3.0</td>\n",
       "      <td>3.0</td>\n",
       "      <td>2.0</td>\n",
       "      <td>3.0</td>\n",
       "      <td>5.0</td>\n",
       "      <td>3.0</td>\n",
       "    </tr>\n",
       "    <tr>\n",
       "      <th>3</th>\n",
       "      <td>1</td>\n",
       "      <td>4</td>\n",
       "      <td>1</td>\n",
       "      <td>2.0</td>\n",
       "      <td>5</td>\n",
       "      <td>1</td>\n",
       "      <td>5</td>\n",
       "      <td>2</td>\n",
       "      <td>1</td>\n",
       "      <td>2</td>\n",
       "      <td>...</td>\n",
       "      <td>3.0</td>\n",
       "      <td>2.0</td>\n",
       "      <td>1.0</td>\n",
       "      <td>0.0</td>\n",
       "      <td>1.0</td>\n",
       "      <td>3.0</td>\n",
       "      <td>4.0</td>\n",
       "      <td>1.0</td>\n",
       "      <td>3.0</td>\n",
       "      <td>1.0</td>\n",
       "    </tr>\n",
       "    <tr>\n",
       "      <th>4</th>\n",
       "      <td>-1</td>\n",
       "      <td>3</td>\n",
       "      <td>1</td>\n",
       "      <td>6.0</td>\n",
       "      <td>3</td>\n",
       "      <td>1</td>\n",
       "      <td>4</td>\n",
       "      <td>4</td>\n",
       "      <td>5</td>\n",
       "      <td>2</td>\n",
       "      <td>...</td>\n",
       "      <td>2.0</td>\n",
       "      <td>4.0</td>\n",
       "      <td>2.0</td>\n",
       "      <td>1.0</td>\n",
       "      <td>2.0</td>\n",
       "      <td>3.0</td>\n",
       "      <td>3.0</td>\n",
       "      <td>3.0</td>\n",
       "      <td>5.0</td>\n",
       "      <td>1.0</td>\n",
       "    </tr>\n",
       "  </tbody>\n",
       "</table>\n",
       "<p>5 rows × 85 columns</p>\n",
       "</div>"
      ],
      "text/plain": [
       "   AGER_TYP  ALTERSKATEGORIE_GROB  ANREDE_KZ  CJT_GESAMTTYP  \\\n",
       "0         2                     4          1            5.0   \n",
       "1        -1                     4          1            NaN   \n",
       "2        -1                     4          2            2.0   \n",
       "3         1                     4          1            2.0   \n",
       "4        -1                     3          1            6.0   \n",
       "\n",
       "   FINANZ_MINIMALIST  FINANZ_SPARER  FINANZ_VORSORGER  FINANZ_ANLEGER  \\\n",
       "0                  5              1                 5               1   \n",
       "1                  5              1                 5               1   \n",
       "2                  5              1                 5               1   \n",
       "3                  5              1                 5               2   \n",
       "4                  3              1                 4               4   \n",
       "\n",
       "   FINANZ_UNAUFFAELLIGER  FINANZ_HAUSBAUER    ...     PLZ8_ANTG1  PLZ8_ANTG2  \\\n",
       "0                      2                 2    ...            3.0         3.0   \n",
       "1                      3                 2    ...            NaN         NaN   \n",
       "2                      4                 4    ...            2.0         3.0   \n",
       "3                      1                 2    ...            3.0         2.0   \n",
       "4                      5                 2    ...            2.0         4.0   \n",
       "\n",
       "   PLZ8_ANTG3  PLZ8_ANTG4  PLZ8_BAUMAX  PLZ8_HHZ  PLZ8_GBZ  ARBEIT  \\\n",
       "0         1.0         0.0          1.0       5.0       5.0     1.0   \n",
       "1         NaN         NaN          NaN       NaN       NaN     NaN   \n",
       "2         3.0         1.0          3.0       3.0       2.0     3.0   \n",
       "3         1.0         0.0          1.0       3.0       4.0     1.0   \n",
       "4         2.0         1.0          2.0       3.0       3.0     3.0   \n",
       "\n",
       "   ORTSGR_KLS9  RELAT_AB  \n",
       "0          2.0       1.0  \n",
       "1          NaN       NaN  \n",
       "2          5.0       3.0  \n",
       "3          3.0       1.0  \n",
       "4          5.0       1.0  \n",
       "\n",
       "[5 rows x 85 columns]"
      ]
     },
     "execution_count": 277,
     "metadata": {},
     "output_type": "execute_result"
    }
   ],
   "source": [
    "# Load in the customer demographics data.\n",
    "customers = pd.read_csv('Udacity_CUSTOMERS_Subset.csv', sep=';')\n",
    "customers.head(5)"
   ]
  },
  {
   "cell_type": "code",
   "execution_count": 278,
   "metadata": {},
   "outputs": [],
   "source": [
    "# Apply preprocessing, feature transformation, and clustering from the general\n",
    "# demographics onto the customer data, obtaining cluster predictions for the\n",
    "# customer demographics data.\n",
    "n_before = customers.shape[0]"
   ]
  },
  {
   "cell_type": "code",
   "execution_count": 279,
   "metadata": {},
   "outputs": [],
   "source": [
    "# preprocessing\n",
    "customers = clean_data(customers)\n",
    "n_after = customers.shape[0]"
   ]
  },
  {
   "cell_type": "code",
   "execution_count": 280,
   "metadata": {},
   "outputs": [
    {
     "name": "stdout",
     "output_type": "stream",
     "text": [
      "Proportion of dataset customers after cleaning data:73.90%\n"
     ]
    }
   ],
   "source": [
    "print(\"Proportion of dataset customers after cleaning data:{:0.2%}\".format(n_after/n_before))"
   ]
  },
  {
   "cell_type": "code",
   "execution_count": 281,
   "metadata": {},
   "outputs": [],
   "source": [
    "# fill nan values\n",
    "#inputer = Imputer(missing_values=np.nan, strategy='most_frequent', axis=0)\n",
    "Xc = inputer.transform(customers)\n",
    "Xc = pd.DataFrame(Xc)\n",
    "Xc.columns = customers.columns"
   ]
  },
  {
   "cell_type": "code",
   "execution_count": 282,
   "metadata": {},
   "outputs": [],
   "source": [
    "# Apply feature scaling to the general population demographics data.\n",
    "#scaler = StandardScaler()\n",
    "Xc_scaled = scaler.transform(Xc)\n",
    "Xc_scaled = pd.DataFrame(Xc_scaled)"
   ]
  },
  {
   "cell_type": "code",
   "execution_count": 283,
   "metadata": {},
   "outputs": [
    {
     "data": {
      "text/plain": [
       "(141640, 30)"
      ]
     },
     "execution_count": 283,
     "metadata": {},
     "output_type": "execute_result"
    }
   ],
   "source": [
    "# Apply PCA\n",
    "Xc_pca = pca.transform(Xc_scaled)\n",
    "Xc_pca.shape"
   ]
  },
  {
   "cell_type": "code",
   "execution_count": 284,
   "metadata": {},
   "outputs": [],
   "source": [
    "# Clustering\n",
    "preds_c = kmeans.predict(Xc_pca)"
   ]
  },
  {
   "cell_type": "markdown",
   "metadata": {},
   "source": [
    "### Step 3.3: Compare Customer Data to Demographics Data\n",
    "\n",
    "At this point, you have clustered data based on demographics of the general population of Germany, and seen how the customer data for a mail-order sales company maps onto those demographic clusters. In this final substep, you will compare the two cluster distributions to see where the strongest customer base for the company is.\n",
    "\n",
    "Consider the proportion of persons in each cluster for the general population, and the proportions for the customers. If we think the company's customer base to be universal, then the cluster assignment proportions should be fairly similar between the two. If there are only particular segments of the population that are interested in the company's products, then we should see a mismatch from one to the other. If there is a higher proportion of persons in a cluster for the customer data compared to the general population (e.g. 5% of persons are assigned to a cluster for the general population, but 15% of the customer data is closest to that cluster's centroid) then that suggests the people in that cluster to be a target audience for the company. On the other hand, the proportion of the data in a cluster being larger in the general population than the customer data (e.g. only 2% of customers closest to a population centroid that captures 6% of the data) suggests that group of persons to be outside of the target demographics.\n",
    "\n",
    "Take a look at the following points in this step:\n",
    "\n",
    "- Compute the proportion of data points in each cluster for the general population and the customer data. Visualizations will be useful here: both for the individual dataset proportions, but also to visualize the ratios in cluster representation between groups. Seaborn's [`countplot()`](https://seaborn.pydata.org/generated/seaborn.countplot.html) or [`barplot()`](https://seaborn.pydata.org/generated/seaborn.barplot.html) function could be handy.\n",
    "  - Recall the analysis you performed in step 1.1.3 of the project, where you separated out certain data points from the dataset if they had more than a specified threshold of missing values. If you found that this group was qualitatively different from the main bulk of the data, you should treat this as an additional data cluster in this analysis. Make sure that you account for the number of data points in this subset, for both the general population and customer datasets, when making your computations!\n",
    "- Which cluster or clusters are overrepresented in the customer dataset compared to the general population? Select at least one such cluster and infer what kind of people might be represented by that cluster. Use the principal component interpretations from step 2.3 or look at additional components to help you make this inference. Alternatively, you can use the `.inverse_transform()` method of the PCA and StandardScaler objects to transform centroids back to the original data space and interpret the retrieved values directly.\n",
    "- Perform a similar investigation for the underrepresented clusters. Which cluster or clusters are underrepresented in the customer dataset compared to the general population, and what kinds of people are typified by these clusters?"
   ]
  },
  {
   "cell_type": "code",
   "execution_count": 302,
   "metadata": {},
   "outputs": [],
   "source": [
    "# Compare the proportion of data in each cluster for the customer data to the\n",
    "# proportion of data in each cluster for the general population."
   ]
  },
  {
   "cell_type": "code",
   "execution_count": 287,
   "metadata": {},
   "outputs": [],
   "source": [
    "# Calculate proportions of persons in each cluster\n",
    "n = X_pca.shape[0]\n",
    "nc = Xc_pca.shape[0]\n",
    "\n",
    "proportions_general = pd.Series(preds).value_counts().sort_index()/n\n",
    "proportions_cust = pd.Series(preds_c).value_counts().sort_index()/nc\n",
    "\n",
    "df = pd.DataFrame({'cluster': proportions_general.index,\n",
    "                  'p_general': proportions_general.values,\n",
    "                  'p_customer':proportions_cust.values})\n"
   ]
  },
  {
   "cell_type": "code",
   "execution_count": 288,
   "metadata": {},
   "outputs": [
    {
     "data": {
      "image/png": "[encoded data removed]",
      "text/plain": [
       "<matplotlib.figure.Figure at 0x7feddae86908>"
      ]
     },
     "metadata": {},
     "output_type": "display_data"
    }
   ],
   "source": [
    "# Plot proportions \n",
    "base_color2 = sns.color_palette()[1]\n",
    "fig, (ax1,ax2) = plt.subplots(1, 2, figsize=(12,4), sharey=True)\n",
    "g = sns.barplot(x=\"cluster\", y=\"p_general\", data=df,\n",
    "                color=base_color, ax=ax1);\n",
    "g.set_title('General population proportions');\n",
    "g.set_ylabel('proportions');\n",
    "\n",
    "g2 = sns.barplot(x=\"cluster\", y=\"p_customer\", data=df,\n",
    "                color=base_color2, ax=ax2);\n",
    "g2.set_title('Customer population proportions');\n",
    "g2.set_ylabel('proportions');\n"
   ]
  },
  {
   "cell_type": "code",
   "execution_count": 321,
   "metadata": {},
   "outputs": [],
   "source": [
    "def plot_scaled_comparison(df_sample, kmeans, cluster):\n",
    "    '''\n",
    "    visualize weights of features after apply pca.inverse_transform on cluster centroid\n",
    "    '''\n",
    "    centroid = kmeans.cluster_centers_[cluster]\n",
    "    \n",
    "    X = pd.DataFrame.from_dict(\n",
    "        dict(zip(df_sample.columns, pca.inverse_transform(centroid))),orient='index').rename(columns={0: 'feature_values'}).sort_values('feature_values', ascending=False)\n",
    "    \n",
    "    X['feature_values_abs'] = abs(X['feature_values'])\n",
    "    pd.concat((X['feature_values'][:10], X['feature_values'][-10:]), axis=0).plot(kind='barh');\n"
   ]
  },
  {
   "cell_type": "code",
   "execution_count": 314,
   "metadata": {},
   "outputs": [
    {
     "data": {
      "text/plain": [
       "{1: 0.99262907067709516,\n",
       " 3: 24.51821067311468,\n",
       " 4: 0.53984219147445234,\n",
       " 6: 4.3955573502958991,\n",
       " 9: 7.6950951076645175,\n",
       " 14: 0.12348868321157402,\n",
       " 17: 1.4903457983092512,\n",
       " 18: 0.1412460168819667}"
      ]
     },
     "execution_count": 314,
     "metadata": {},
     "output_type": "execute_result"
    }
   ],
   "source": [
    "# What kinds of people are part of a cluster that is overrepresented in the\n",
    "# customer data compared to the general population?\n",
    "\n",
    "clusters_over = {}\n",
    "\n",
    "for i in range(19):\n",
    "    \n",
    "    pc =  df['p_customer'][i]\n",
    "    pg = df['p_general'][i]\n",
    "    \n",
    "    if pc > pg:\n",
    "        clusters_over[i] = abs(pc-pg)*100 # percentage diff\n",
    "\n",
    "clusters_over"
   ]
  },
  {
   "cell_type": "code",
   "execution_count": 320,
   "metadata": {},
   "outputs": [
    {
     "data": {
      "image/png": "[encoded data removed]",
      "text/plain": [
       "<matplotlib.figure.Figure at 0x7feddc62ea90>"
      ]
     },
     "metadata": {},
     "output_type": "display_data"
    }
   ],
   "source": [
    "# cluster 3 with most significant difference from general data\n",
    "plot_scaled_comparison(customers, kmeans, 3)\n",
    "# The data weights are scaled, meaning:\n",
    "# more negatives values represents lower values for feature\n",
    "# positive values represents higher values for features"
   ]
  },
  {
   "cell_type": "markdown",
   "metadata": {},
   "source": [
    "**Interpretation for cluster 3**\n",
    "- It is possible to see that: \n",
    "    1. The features 'GREEN_AVANTGARDE' and 'FINANZ_MINIMALIST' have the highest values, meaning these people are member of green avantgarde and don't have low financial interest (probably have investments, stocks). \n",
    "    2. The features 'HH_EINKOMMEN_SCORE' and 'PRAEGENDE_JUGENDJAHRE_MOVEMENT' have lowest values. They represent wealthy people member of the green avantgarde movement.\n",
    "\n"
   ]
  },
  {
   "cell_type": "code",
   "execution_count": 339,
   "metadata": {},
   "outputs": [
    {
     "data": {
      "text/plain": [
       "{0: 2.5322405739223361,\n",
       " 2: 5.1107555546698418,\n",
       " 5: 1.1749475056440299,\n",
       " 7: 4.9591385880653887,\n",
       " 8: 1.6188156028848573,\n",
       " 10: 3.7525107869078784,\n",
       " 11: 6.4583582022800279,\n",
       " 12: 7.1807195274206235,\n",
       " 13: 2.6740065389421814,\n",
       " 15: 3.2211503510285096,\n",
       " 16: 1.2137716598637618}"
      ]
     },
     "execution_count": 339,
     "metadata": {},
     "output_type": "execute_result"
    }
   ],
   "source": [
    "# What kinds of people are part of a cluster that is underrepresented in the\n",
    "# customer data compared to the general population?\n",
    "\n",
    "clusters_under = {}\n",
    "\n",
    "for i in range(19):\n",
    "    \n",
    "    pc =  df['p_customer'][i]\n",
    "    pg = df['p_general'][i]\n",
    "    \n",
    "    if pg > pc:\n",
    "        clusters_under[i] = abs(pg-pc)*100 # percentage diff\n",
    "        \n",
    "clusters_under"
   ]
  },
  {
   "cell_type": "code",
   "execution_count": 340,
   "metadata": {},
   "outputs": [
    {
     "data": {
      "image/png": "[encoded data removed]",
      "text/plain": [
       "<matplotlib.figure.Figure at 0x7feddaf21e80>"
      ]
     },
     "metadata": {},
     "output_type": "display_data"
    }
   ],
   "source": [
    "# cluster 12 underrepresented compared to general data\n",
    "plot_scaled_comparison(customers, kmeans, 12)\n",
    "# The weights are scaled, meaning:\n",
    "# more negatives values represents lower values for feature\n",
    "# positive values represents higher values for features"
   ]
  },
  {
   "cell_type": "markdown",
   "metadata": {},
   "source": [
    "**Interpretation for cluster 3**\n",
    "\n",
    "- It is possible to see that:\n",
    "    1. The features 'SEMIO_RAT/TRADV/PFLICHT' and 'FINANZ_ANLEGER' have the highest values, representing people that are probably not investors and have low affinity for personality traits like rational/tradional/dutiful.\n",
    "\n",
    "    2. The features 'ALTERSKATEGORIE_GROB','FINANZ_VORSORGER,'SEMIO_VERT' have the lowest values, representing people that are younger, prepared financially and have high affinity for personality traits like dreamful."
   ]
  },
  {
   "cell_type": "markdown",
   "metadata": {},
   "source": [
    "### Discussion 3.3: Compare Customer Data to Demographics Data"
   ]
  },
  {
   "cell_type": "markdown",
   "metadata": {},
   "source": [
    "The segments of population that are popular with the mail-order company are wealthy and member of green avantgarde. The less segments of population that are less popular representes younger people and not so wealthy (don't have investments)."
   ]
  },
  {
   "cell_type": "markdown",
   "metadata": {},
   "source": [
    "> Congratulations on making it this far in the project! Before you finish, make sure to check through the entire notebook from top to bottom to make sure that your analysis follows a logical flow and all of your findings are documented in **Discussion** cells. Once you've checked over all of your work, you should export the notebook as an HTML document to submit for evaluation. You can do this from the menu, navigating to **File -> Download as -> HTML (.html)**. You will submit both that document and this notebook for your project submission."
   ]
  },
  {
   "cell_type": "code",
   "execution_count": null,
   "metadata": {},
   "outputs": [],
   "source": []
  }
 ],
 "metadata": {
  "kernelspec": {
   "display_name": "Python 3",
   "language": "python",
   "name": "python3"
  },
  "language_info": {
   "codemirror_mode": {
    "name": "ipython",
    "version": 3
   },
   "file_extension": ".py",
   "mimetype": "text/x-python",
   "name": "python",
   "nbconvert_exporter": "python",
   "pygments_lexer": "ipython3",
   "version": "3.7.1"
  }
 },
 "nbformat": 4,
 "nbformat_minor": 2
}
